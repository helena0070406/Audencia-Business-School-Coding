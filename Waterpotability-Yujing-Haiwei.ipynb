{
  "cells": [
    {
      "cell_type": "markdown",
      "metadata": {
        "id": "view-in-github",
        "colab_type": "text"
      },
      "source": [
        "<a href=\"https://colab.research.google.com/github/helena0070406/Typeform/blob/main/exercise_3_Water_potability_Yujing_CHEN_Haiwei_FU.ipynb\" target=\"_parent\"><img src=\"https://colab.research.google.com/assets/colab-badge.svg\" alt=\"Open In Colab\"/></a>"
      ]
    },
    {
      "cell_type": "markdown",
      "metadata": {
        "id": "wOacVGT9C1h8"
      },
      "source": [
        "Logistic regression"
      ]
    },
    {
      "cell_type": "code",
      "execution_count": null,
      "metadata": {
        "id": "NhVvQBr4BCBr"
      },
      "outputs": [],
      "source": [
        "# Import libraries, features and settings \n",
        "import matplotlib.pyplot as plt\n",
        "import numpy as np\n",
        "from sklearn import datasets, linear_model\n",
        "from sklearn.metrics import mean_squared_error, r2_score\n",
        "import pandas as pd\n",
        "import io\n",
        "%matplotlib inline\n",
        "import matplotlib.pyplot as plt\n",
        "import seaborn as sns; sns.set()\n",
        "from sklearn import preprocessing\n",
        "plt.rc(\"font\", size = 14)\n",
        "from sklearn.linear_model import LogisticRegression\n",
        "from sklearn.model_selection import train_test_split\n",
        "sns.set(style=\"white\")\n",
        "sns.set(style=\"whitegrid\", color_codes = True)"
      ]
    },
    {
      "cell_type": "markdown",
      "metadata": {
        "id": "piruWZyyP5m9"
      },
      "source": [
        "Firstly, we import the data and to classify the information within the dataset before having a quick look at what the data set looks like :"
      ]
    },
    {
      "cell_type": "code",
      "execution_count": null,
      "metadata": {
        "colab": {
          "base_uri": "https://localhost:8080/",
          "height": 205
        },
        "id": "6iGtCAJ1CDw2",
        "outputId": "50e73d8e-c31f-4393-8813-99bb47f54779"
      },
      "outputs": [
        {
          "data": {
            "text/html": [
              "\n",
              "  <div id=\"df-ad7f37b8-ba04-4e07-ad7b-bd2f4f9e60c5\">\n",
              "    <div class=\"colab-df-container\">\n",
              "      <div>\n",
              "<style scoped>\n",
              "    .dataframe tbody tr th:only-of-type {\n",
              "        vertical-align: middle;\n",
              "    }\n",
              "\n",
              "    .dataframe tbody tr th {\n",
              "        vertical-align: top;\n",
              "    }\n",
              "\n",
              "    .dataframe thead th {\n",
              "        text-align: right;\n",
              "    }\n",
              "</style>\n",
              "<table border=\"1\" class=\"dataframe\">\n",
              "  <thead>\n",
              "    <tr style=\"text-align: right;\">\n",
              "      <th></th>\n",
              "      <th>ph</th>\n",
              "      <th>Hardness</th>\n",
              "      <th>Solids</th>\n",
              "      <th>Chloramines</th>\n",
              "      <th>Sulfate</th>\n",
              "      <th>Conductivity</th>\n",
              "      <th>Organic_carbon</th>\n",
              "      <th>Trihalomethanes</th>\n",
              "      <th>Turbidity</th>\n",
              "      <th>Potability</th>\n",
              "    </tr>\n",
              "  </thead>\n",
              "  <tbody>\n",
              "    <tr>\n",
              "      <th>0</th>\n",
              "      <td>NaN</td>\n",
              "      <td>204.890455</td>\n",
              "      <td>20791.318981</td>\n",
              "      <td>7.300212</td>\n",
              "      <td>368.516441</td>\n",
              "      <td>564.308654</td>\n",
              "      <td>10.379783</td>\n",
              "      <td>86.990970</td>\n",
              "      <td>2.963135</td>\n",
              "      <td>0</td>\n",
              "    </tr>\n",
              "    <tr>\n",
              "      <th>1</th>\n",
              "      <td>3.716080</td>\n",
              "      <td>129.422921</td>\n",
              "      <td>18630.057858</td>\n",
              "      <td>6.635246</td>\n",
              "      <td>NaN</td>\n",
              "      <td>592.885359</td>\n",
              "      <td>15.180013</td>\n",
              "      <td>56.329076</td>\n",
              "      <td>4.500656</td>\n",
              "      <td>0</td>\n",
              "    </tr>\n",
              "    <tr>\n",
              "      <th>2</th>\n",
              "      <td>8.099124</td>\n",
              "      <td>224.236259</td>\n",
              "      <td>19909.541732</td>\n",
              "      <td>9.275884</td>\n",
              "      <td>NaN</td>\n",
              "      <td>418.606213</td>\n",
              "      <td>16.868637</td>\n",
              "      <td>66.420093</td>\n",
              "      <td>3.055934</td>\n",
              "      <td>0</td>\n",
              "    </tr>\n",
              "    <tr>\n",
              "      <th>3</th>\n",
              "      <td>8.316766</td>\n",
              "      <td>214.373394</td>\n",
              "      <td>22018.417441</td>\n",
              "      <td>8.059332</td>\n",
              "      <td>356.886136</td>\n",
              "      <td>363.266516</td>\n",
              "      <td>18.436524</td>\n",
              "      <td>100.341674</td>\n",
              "      <td>4.628771</td>\n",
              "      <td>0</td>\n",
              "    </tr>\n",
              "    <tr>\n",
              "      <th>4</th>\n",
              "      <td>9.092223</td>\n",
              "      <td>181.101509</td>\n",
              "      <td>17978.986339</td>\n",
              "      <td>6.546600</td>\n",
              "      <td>310.135738</td>\n",
              "      <td>398.410813</td>\n",
              "      <td>11.558279</td>\n",
              "      <td>31.997993</td>\n",
              "      <td>4.075075</td>\n",
              "      <td>0</td>\n",
              "    </tr>\n",
              "  </tbody>\n",
              "</table>\n",
              "</div>\n",
              "      <button class=\"colab-df-convert\" onclick=\"convertToInteractive('df-ad7f37b8-ba04-4e07-ad7b-bd2f4f9e60c5')\"\n",
              "              title=\"Convert this dataframe to an interactive table.\"\n",
              "              style=\"display:none;\">\n",
              "        \n",
              "  <svg xmlns=\"http://www.w3.org/2000/svg\" height=\"24px\"viewBox=\"0 0 24 24\"\n",
              "       width=\"24px\">\n",
              "    <path d=\"M0 0h24v24H0V0z\" fill=\"none\"/>\n",
              "    <path d=\"M18.56 5.44l.94 2.06.94-2.06 2.06-.94-2.06-.94-.94-2.06-.94 2.06-2.06.94zm-11 1L8.5 8.5l.94-2.06 2.06-.94-2.06-.94L8.5 2.5l-.94 2.06-2.06.94zm10 10l.94 2.06.94-2.06 2.06-.94-2.06-.94-.94-2.06-.94 2.06-2.06.94z\"/><path d=\"M17.41 7.96l-1.37-1.37c-.4-.4-.92-.59-1.43-.59-.52 0-1.04.2-1.43.59L10.3 9.45l-7.72 7.72c-.78.78-.78 2.05 0 2.83L4 21.41c.39.39.9.59 1.41.59.51 0 1.02-.2 1.41-.59l7.78-7.78 2.81-2.81c.8-.78.8-2.07 0-2.86zM5.41 20L4 18.59l7.72-7.72 1.47 1.35L5.41 20z\"/>\n",
              "  </svg>\n",
              "      </button>\n",
              "      \n",
              "  <style>\n",
              "    .colab-df-container {\n",
              "      display:flex;\n",
              "      flex-wrap:wrap;\n",
              "      gap: 12px;\n",
              "    }\n",
              "\n",
              "    .colab-df-convert {\n",
              "      background-color: #E8F0FE;\n",
              "      border: none;\n",
              "      border-radius: 50%;\n",
              "      cursor: pointer;\n",
              "      display: none;\n",
              "      fill: #1967D2;\n",
              "      height: 32px;\n",
              "      padding: 0 0 0 0;\n",
              "      width: 32px;\n",
              "    }\n",
              "\n",
              "    .colab-df-convert:hover {\n",
              "      background-color: #E2EBFA;\n",
              "      box-shadow: 0px 1px 2px rgba(60, 64, 67, 0.3), 0px 1px 3px 1px rgba(60, 64, 67, 0.15);\n",
              "      fill: #174EA6;\n",
              "    }\n",
              "\n",
              "    [theme=dark] .colab-df-convert {\n",
              "      background-color: #3B4455;\n",
              "      fill: #D2E3FC;\n",
              "    }\n",
              "\n",
              "    [theme=dark] .colab-df-convert:hover {\n",
              "      background-color: #434B5C;\n",
              "      box-shadow: 0px 1px 3px 1px rgba(0, 0, 0, 0.15);\n",
              "      filter: drop-shadow(0px 1px 2px rgba(0, 0, 0, 0.3));\n",
              "      fill: #FFFFFF;\n",
              "    }\n",
              "  </style>\n",
              "\n",
              "      <script>\n",
              "        const buttonEl =\n",
              "          document.querySelector('#df-ad7f37b8-ba04-4e07-ad7b-bd2f4f9e60c5 button.colab-df-convert');\n",
              "        buttonEl.style.display =\n",
              "          google.colab.kernel.accessAllowed ? 'block' : 'none';\n",
              "\n",
              "        async function convertToInteractive(key) {\n",
              "          const element = document.querySelector('#df-ad7f37b8-ba04-4e07-ad7b-bd2f4f9e60c5');\n",
              "          const dataTable =\n",
              "            await google.colab.kernel.invokeFunction('convertToInteractive',\n",
              "                                                     [key], {});\n",
              "          if (!dataTable) return;\n",
              "\n",
              "          const docLinkHtml = 'Like what you see? Visit the ' +\n",
              "            '<a target=\"_blank\" href=https://colab.research.google.com/notebooks/data_table.ipynb>data table notebook</a>'\n",
              "            + ' to learn more about interactive tables.';\n",
              "          element.innerHTML = '';\n",
              "          dataTable['output_type'] = 'display_data';\n",
              "          await google.colab.output.renderOutput(dataTable, element);\n",
              "          const docLink = document.createElement('div');\n",
              "          docLink.innerHTML = docLinkHtml;\n",
              "          element.appendChild(docLink);\n",
              "        }\n",
              "      </script>\n",
              "    </div>\n",
              "  </div>\n",
              "  "
            ],
            "text/plain": [
              "         ph    Hardness        Solids  Chloramines     Sulfate  Conductivity  \\\n",
              "0       NaN  204.890455  20791.318981     7.300212  368.516441    564.308654   \n",
              "1  3.716080  129.422921  18630.057858     6.635246         NaN    592.885359   \n",
              "2  8.099124  224.236259  19909.541732     9.275884         NaN    418.606213   \n",
              "3  8.316766  214.373394  22018.417441     8.059332  356.886136    363.266516   \n",
              "4  9.092223  181.101509  17978.986339     6.546600  310.135738    398.410813   \n",
              "\n",
              "   Organic_carbon  Trihalomethanes  Turbidity  Potability  \n",
              "0       10.379783        86.990970   2.963135           0  \n",
              "1       15.180013        56.329076   4.500656           0  \n",
              "2       16.868637        66.420093   3.055934           0  \n",
              "3       18.436524       100.341674   4.628771           0  \n",
              "4       11.558279        31.997993   4.075075           0  "
            ]
          },
          "execution_count": 2,
          "metadata": {},
          "output_type": "execute_result"
        }
      ],
      "source": [
        "# Explore data\n",
        "\n",
        "df = pd.read_csv(\"water_potability.csv\")\n",
        "# To display the top 10 rows \n",
        "df.head(10) \n",
        "\n",
        "df = df[['ph','Hardness','Solids','Chloramines','Sulfate','Conductivity','Organic_carbon', 'Trihalomethanes','Turbidity','Potability']] \t\n",
        "\n",
        "df.head()"
      ]
    },
    {
      "cell_type": "markdown",
      "metadata": {
        "id": "CWz-LVH3Q7LV"
      },
      "source": [
        "view data type and other information"
      ]
    },
    {
      "cell_type": "code",
      "execution_count": null,
      "metadata": {
        "colab": {
          "base_uri": "https://localhost:8080/"
        },
        "id": "tzeuizRCCD_l",
        "outputId": "ee349bba-d6f4-4d4f-b4e5-f1705d32d08b"
      },
      "outputs": [
        {
          "data": {
            "text/plain": [
              "ph                 float64\n",
              "Hardness           float64\n",
              "Solids             float64\n",
              "Chloramines        float64\n",
              "Sulfate            float64\n",
              "Conductivity       float64\n",
              "Organic_carbon     float64\n",
              "Trihalomethanes    float64\n",
              "Turbidity          float64\n",
              "Potability           int64\n",
              "dtype: object"
            ]
          },
          "execution_count": 3,
          "metadata": {},
          "output_type": "execute_result"
        }
      ],
      "source": [
        "df.dtypes"
      ]
    },
    {
      "cell_type": "code",
      "execution_count": null,
      "metadata": {
        "colab": {
          "base_uri": "https://localhost:8080/"
        },
        "id": "Vo3-NG4SEhMT",
        "outputId": "470ded3e-4a2c-42b9-9f04-d738cadce77e"
      },
      "outputs": [
        {
          "name": "stdout",
          "output_type": "stream",
          "text": [
            "<class 'pandas.core.frame.DataFrame'>\n",
            "RangeIndex: 3276 entries, 0 to 3275\n",
            "Data columns (total 10 columns):\n",
            " #   Column           Non-Null Count  Dtype  \n",
            "---  ------           --------------  -----  \n",
            " 0   ph               2785 non-null   float64\n",
            " 1   Hardness         3276 non-null   float64\n",
            " 2   Solids           3276 non-null   float64\n",
            " 3   Chloramines      3276 non-null   float64\n",
            " 4   Sulfate          2495 non-null   float64\n",
            " 5   Conductivity     3276 non-null   float64\n",
            " 6   Organic_carbon   3276 non-null   float64\n",
            " 7   Trihalomethanes  3114 non-null   float64\n",
            " 8   Turbidity        3276 non-null   float64\n",
            " 9   Potability       3276 non-null   int64  \n",
            "dtypes: float64(9), int64(1)\n",
            "memory usage: 256.1 KB\n"
          ]
        }
      ],
      "source": [
        "df.info()"
      ]
    },
    {
      "cell_type": "markdown",
      "metadata": {
        "id": "IaRK6GQURNDd"
      },
      "source": [
        "split data and create the dataframes"
      ]
    },
    {
      "cell_type": "code",
      "execution_count": null,
      "metadata": {
        "id": "YRCw7v27EkaL"
      },
      "outputs": [],
      "source": [
        "# Split data into train test sets\n",
        "\n",
        "from sklearn.model_selection import train_test_split\n",
        "trainingSet, testSet = train_test_split(df, test_size=0.2)"
      ]
    },
    {
      "cell_type": "code",
      "execution_count": null,
      "metadata": {
        "id": "zFtjnsEqEpPI"
      },
      "outputs": [],
      "source": [
        "# Creating the dataframes for training and test datasets\n",
        "train_df = trainingSet\n",
        "test_df = testSet\n",
        "\n",
        "#Clean the missing values if needed\n",
        "train_df = train_df.dropna()\n",
        "test_df = test_df.dropna()"
      ]
    },
    {
      "cell_type": "code",
      "execution_count": null,
      "metadata": {
        "colab": {
          "base_uri": "https://localhost:8080/"
        },
        "id": "6eih17wYEsA2",
        "outputId": "a83a327c-74ed-48fc-dbed-474a4dccf0a0"
      },
      "outputs": [
        {
          "name": "stdout",
          "output_type": "stream",
          "text": [
            "<class 'pandas.core.frame.DataFrame'>\n",
            "Int64Index: 1602 entries, 1524 to 2741\n",
            "Data columns (total 10 columns):\n",
            " #   Column           Non-Null Count  Dtype  \n",
            "---  ------           --------------  -----  \n",
            " 0   ph               1602 non-null   float64\n",
            " 1   Hardness         1602 non-null   float64\n",
            " 2   Solids           1602 non-null   float64\n",
            " 3   Chloramines      1602 non-null   float64\n",
            " 4   Sulfate          1602 non-null   float64\n",
            " 5   Conductivity     1602 non-null   float64\n",
            " 6   Organic_carbon   1602 non-null   float64\n",
            " 7   Trihalomethanes  1602 non-null   float64\n",
            " 8   Turbidity        1602 non-null   float64\n",
            " 9   Potability       1602 non-null   int64  \n",
            "dtypes: float64(9), int64(1)\n",
            "memory usage: 137.7 KB\n"
          ]
        }
      ],
      "source": [
        "train_df.info()"
      ]
    },
    {
      "cell_type": "markdown",
      "metadata": {
        "id": "IQzHiXeqRUOp"
      },
      "source": [
        "View newly defined data information"
      ]
    },
    {
      "cell_type": "code",
      "execution_count": null,
      "metadata": {
        "colab": {
          "base_uri": "https://localhost:8080/"
        },
        "id": "iAH_7LS4EvsT",
        "outputId": "5847782d-f764-409e-98f5-ad710a02ebe6"
      },
      "outputs": [
        {
          "name": "stdout",
          "output_type": "stream",
          "text": [
            "<class 'pandas.core.frame.DataFrame'>\n",
            "Int64Index: 409 entries, 1531 to 1348\n",
            "Data columns (total 10 columns):\n",
            " #   Column           Non-Null Count  Dtype  \n",
            "---  ------           --------------  -----  \n",
            " 0   ph               409 non-null    float64\n",
            " 1   Hardness         409 non-null    float64\n",
            " 2   Solids           409 non-null    float64\n",
            " 3   Chloramines      409 non-null    float64\n",
            " 4   Sulfate          409 non-null    float64\n",
            " 5   Conductivity     409 non-null    float64\n",
            " 6   Organic_carbon   409 non-null    float64\n",
            " 7   Trihalomethanes  409 non-null    float64\n",
            " 8   Turbidity        409 non-null    float64\n",
            " 9   Potability       409 non-null    int64  \n",
            "dtypes: float64(9), int64(1)\n",
            "memory usage: 35.1 KB\n"
          ]
        }
      ],
      "source": [
        "test_df.info()"
      ]
    },
    {
      "cell_type": "markdown",
      "metadata": {
        "id": "b2Z5ygnpRb77"
      },
      "source": [
        "Select the data information we need"
      ]
    },
    {
      "cell_type": "code",
      "execution_count": null,
      "metadata": {
        "id": "q37cUYLUEw-u"
      },
      "outputs": [],
      "source": [
        "#Load the values into X_train, X_test, y_train, y_test\n",
        "#X_train = train_df.iloc[:,:-1].values\n",
        "#y_train = train_df.iloc[:,1].values\n",
        "#X_test = test_df.iloc[:,:-1].values\n",
        "#y_test = test_df.iloc[:,1].values\n",
        "\n",
        "X_train = train_df[['ph','Hardness','Solids','Chloramines','Sulfate','Conductivity','Organic_carbon', 'Trihalomethanes','Turbidity','Potability']] \t\n",
        "\n",
        "y_train = train_df[\"Potability\"]\n",
        "\n",
        "X_test = test_df[['ph','Hardness','Solids','Chloramines','Sulfate','Conductivity','Organic_carbon', 'Trihalomethanes','Turbidity','Potability']] \t\n",
        "\n",
        "y_test = test_df[\"Potability\"]\n"
      ]
    },
    {
      "cell_type": "code",
      "execution_count": null,
      "metadata": {
        "colab": {
          "base_uri": "https://localhost:8080/"
        },
        "id": "gALk00JEFtWn",
        "outputId": "79b74fe1-59fe-4388-eb67-cb3d709901bf"
      },
      "outputs": [
        {
          "data": {
            "text/plain": [
              "1531    1\n",
              "313     1\n",
              "264     1\n",
              "2795    1\n",
              "1071    1\n",
              "Name: Potability, dtype: int64"
            ]
          },
          "execution_count": 108,
          "metadata": {},
          "output_type": "execute_result"
        }
      ],
      "source": [
        "y_test.head()"
      ]
    },
    {
      "cell_type": "code",
      "execution_count": null,
      "metadata": {
        "colab": {
          "base_uri": "https://localhost:8080/"
        },
        "id": "sr0_xHviFvgb",
        "outputId": "965c4f0a-6705-4d38-cd6a-3686f7208a42"
      },
      "outputs": [
        {
          "data": {
            "text/plain": [
              "1524    1\n",
              "3024    0\n",
              "1008    0\n",
              "2438    1\n",
              "1411    0\n",
              "Name: Potability, dtype: int64"
            ]
          },
          "execution_count": 109,
          "metadata": {},
          "output_type": "execute_result"
        }
      ],
      "source": [
        "y_train.head()"
      ]
    },
    {
      "cell_type": "code",
      "execution_count": null,
      "metadata": {
        "colab": {
          "base_uri": "https://localhost:8080/"
        },
        "id": "yBbPBufoFwk9",
        "outputId": "2ddf8d54-cd0c-4b59-c7ea-add44a4c9190"
      },
      "outputs": [
        {
          "data": {
            "text/plain": [
              "0    959\n",
              "1    643\n",
              "Name: Potability, dtype: int64"
            ]
          },
          "execution_count": 110,
          "metadata": {},
          "output_type": "execute_result"
        }
      ],
      "source": [
        "y_train.value_counts()"
      ]
    },
    {
      "cell_type": "code",
      "execution_count": null,
      "metadata": {
        "colab": {
          "base_uri": "https://localhost:8080/",
          "height": 359
        },
        "id": "PCtLA_d5F-dY",
        "outputId": "0cef7bc6-fbe8-4e8e-eb74-9c92770b64cf"
      },
      "outputs": [
        {
          "name": "stderr",
          "output_type": "stream",
          "text": [
            "/usr/local/lib/python3.7/dist-packages/seaborn/_decorators.py:43: FutureWarning: Pass the following variable as a keyword arg: x. From version 0.12, the only valid positional argument will be `data`, and passing other arguments without an explicit keyword will result in an error or misinterpretation.\n",
            "  FutureWarning\n"
          ]
        },
        {
          "data": {
            "image/png": "[encoded data removed]",
            "text/plain": [
              "<Figure size 432x288 with 1 Axes>"
            ]
          },
          "metadata": {},
          "output_type": "display_data"
        },
        {
          "data": {
            "text/plain": [
              "<Figure size 432x288 with 0 Axes>"
            ]
          },
          "metadata": {},
          "output_type": "display_data"
        }
      ],
      "source": [
        "sns.countplot(\"Potability\", data=train_df, palette='Blues_d')\n",
        "plt.show()\n",
        "plt.savefig('count_plot')"
      ]
    },
    {
      "cell_type": "code",
      "execution_count": null,
      "metadata": {
        "colab": {
          "base_uri": "https://localhost:8080/"
        },
        "id": "tRE37x4KG9y3",
        "outputId": "449a4e1c-0c6d-4cee-c23f-389f5bf80ca5"
      },
      "outputs": [
        {
          "name": "stdout",
          "output_type": "stream",
          "text": [
            "percentage of no Potability is 59.86267166042447\n",
            "percentage of Potability 40.13732833957553\n"
          ]
        }
      ],
      "source": [
        "count_no_choc = len(train_df[train_df['Potability']==0])\n",
        "count_choc = len(train_df[train_df['Potability']==1])\n",
        "pct_of_no_choc = count_no_choc/(count_no_choc+count_choc)\n",
        "print(\"percentage of no Potability is\", pct_of_no_choc*100)\n",
        "pct_of_choc = count_choc/(count_no_choc+count_choc)\n",
        "print(\"percentage of Potability\", pct_of_choc*100)\n"
      ]
    },
    {
      "cell_type": "code",
      "execution_count": null,
      "metadata": {
        "colab": {
          "base_uri": "https://localhost:8080/",
          "height": 144
        },
        "id": "-vkHXAjxGjvS",
        "outputId": "f0498ad7-3b2b-4bdf-a2fb-6228ebd81f8e"
      },
      "outputs": [
        {
          "data": {
            "text/html": [
              "\n",
              "  <div id=\"df-8ea77f23-0474-4fd3-ac3a-c94c0addc46a\">\n",
              "    <div class=\"colab-df-container\">\n",
              "      <div>\n",
              "<style scoped>\n",
              "    .dataframe tbody tr th:only-of-type {\n",
              "        vertical-align: middle;\n",
              "    }\n",
              "\n",
              "    .dataframe tbody tr th {\n",
              "        vertical-align: top;\n",
              "    }\n",
              "\n",
              "    .dataframe thead th {\n",
              "        text-align: right;\n",
              "    }\n",
              "</style>\n",
              "<table border=\"1\" class=\"dataframe\">\n",
              "  <thead>\n",
              "    <tr style=\"text-align: right;\">\n",
              "      <th></th>\n",
              "      <th>ph</th>\n",
              "      <th>Hardness</th>\n",
              "      <th>Solids</th>\n",
              "      <th>Chloramines</th>\n",
              "      <th>Sulfate</th>\n",
              "      <th>Conductivity</th>\n",
              "      <th>Organic_carbon</th>\n",
              "      <th>Trihalomethanes</th>\n",
              "      <th>Turbidity</th>\n",
              "    </tr>\n",
              "    <tr>\n",
              "      <th>Potability</th>\n",
              "      <th></th>\n",
              "      <th></th>\n",
              "      <th></th>\n",
              "      <th></th>\n",
              "      <th></th>\n",
              "      <th></th>\n",
              "      <th></th>\n",
              "      <th></th>\n",
              "      <th></th>\n",
              "    </tr>\n",
              "  </thead>\n",
              "  <tbody>\n",
              "    <tr>\n",
              "      <th>0</th>\n",
              "      <td>7.060423</td>\n",
              "      <td>195.814198</td>\n",
              "      <td>21637.781903</td>\n",
              "      <td>7.120268</td>\n",
              "      <td>333.335990</td>\n",
              "      <td>429.183886</td>\n",
              "      <td>14.369041</td>\n",
              "      <td>66.052267</td>\n",
              "      <td>3.957449</td>\n",
              "    </tr>\n",
              "    <tr>\n",
              "      <th>1</th>\n",
              "      <td>7.164414</td>\n",
              "      <td>195.492055</td>\n",
              "      <td>22286.393320</td>\n",
              "      <td>7.189727</td>\n",
              "      <td>331.799699</td>\n",
              "      <td>426.496584</td>\n",
              "      <td>14.260597</td>\n",
              "      <td>66.473711</td>\n",
              "      <td>4.005617</td>\n",
              "    </tr>\n",
              "  </tbody>\n",
              "</table>\n",
              "</div>\n",
              "      <button class=\"colab-df-convert\" onclick=\"convertToInteractive('df-8ea77f23-0474-4fd3-ac3a-c94c0addc46a')\"\n",
              "              title=\"Convert this dataframe to an interactive table.\"\n",
              "              style=\"display:none;\">\n",
              "        \n",
              "  <svg xmlns=\"http://www.w3.org/2000/svg\" height=\"24px\"viewBox=\"0 0 24 24\"\n",
              "       width=\"24px\">\n",
              "    <path d=\"M0 0h24v24H0V0z\" fill=\"none\"/>\n",
              "    <path d=\"M18.56 5.44l.94 2.06.94-2.06 2.06-.94-2.06-.94-.94-2.06-.94 2.06-2.06.94zm-11 1L8.5 8.5l.94-2.06 2.06-.94-2.06-.94L8.5 2.5l-.94 2.06-2.06.94zm10 10l.94 2.06.94-2.06 2.06-.94-2.06-.94-.94-2.06-.94 2.06-2.06.94z\"/><path d=\"M17.41 7.96l-1.37-1.37c-.4-.4-.92-.59-1.43-.59-.52 0-1.04.2-1.43.59L10.3 9.45l-7.72 7.72c-.78.78-.78 2.05 0 2.83L4 21.41c.39.39.9.59 1.41.59.51 0 1.02-.2 1.41-.59l7.78-7.78 2.81-2.81c.8-.78.8-2.07 0-2.86zM5.41 20L4 18.59l7.72-7.72 1.47 1.35L5.41 20z\"/>\n",
              "  </svg>\n",
              "      </button>\n",
              "      \n",
              "  <style>\n",
              "    .colab-df-container {\n",
              "      display:flex;\n",
              "      flex-wrap:wrap;\n",
              "      gap: 12px;\n",
              "    }\n",
              "\n",
              "    .colab-df-convert {\n",
              "      background-color: #E8F0FE;\n",
              "      border: none;\n",
              "      border-radius: 50%;\n",
              "      cursor: pointer;\n",
              "      display: none;\n",
              "      fill: #1967D2;\n",
              "      height: 32px;\n",
              "      padding: 0 0 0 0;\n",
              "      width: 32px;\n",
              "    }\n",
              "\n",
              "    .colab-df-convert:hover {\n",
              "      background-color: #E2EBFA;\n",
              "      box-shadow: 0px 1px 2px rgba(60, 64, 67, 0.3), 0px 1px 3px 1px rgba(60, 64, 67, 0.15);\n",
              "      fill: #174EA6;\n",
              "    }\n",
              "\n",
              "    [theme=dark] .colab-df-convert {\n",
              "      background-color: #3B4455;\n",
              "      fill: #D2E3FC;\n",
              "    }\n",
              "\n",
              "    [theme=dark] .colab-df-convert:hover {\n",
              "      background-color: #434B5C;\n",
              "      box-shadow: 0px 1px 3px 1px rgba(0, 0, 0, 0.15);\n",
              "      filter: drop-shadow(0px 1px 2px rgba(0, 0, 0, 0.3));\n",
              "      fill: #FFFFFF;\n",
              "    }\n",
              "  </style>\n",
              "\n",
              "      <script>\n",
              "        const buttonEl =\n",
              "          document.querySelector('#df-8ea77f23-0474-4fd3-ac3a-c94c0addc46a button.colab-df-convert');\n",
              "        buttonEl.style.display =\n",
              "          google.colab.kernel.accessAllowed ? 'block' : 'none';\n",
              "\n",
              "        async function convertToInteractive(key) {\n",
              "          const element = document.querySelector('#df-8ea77f23-0474-4fd3-ac3a-c94c0addc46a');\n",
              "          const dataTable =\n",
              "            await google.colab.kernel.invokeFunction('convertToInteractive',\n",
              "                                                     [key], {});\n",
              "          if (!dataTable) return;\n",
              "\n",
              "          const docLinkHtml = 'Like what you see? Visit the ' +\n",
              "            '<a target=\"_blank\" href=https://colab.research.google.com/notebooks/data_table.ipynb>data table notebook</a>'\n",
              "            + ' to learn more about interactive tables.';\n",
              "          element.innerHTML = '';\n",
              "          dataTable['output_type'] = 'display_data';\n",
              "          await google.colab.output.renderOutput(dataTable, element);\n",
              "          const docLink = document.createElement('div');\n",
              "          docLink.innerHTML = docLinkHtml;\n",
              "          element.appendChild(docLink);\n",
              "        }\n",
              "      </script>\n",
              "    </div>\n",
              "  </div>\n",
              "  "
            ],
            "text/plain": [
              "                  ph    Hardness        Solids  Chloramines     Sulfate  \\\n",
              "Potability                                                                \n",
              "0           7.060423  195.814198  21637.781903     7.120268  333.335990   \n",
              "1           7.164414  195.492055  22286.393320     7.189727  331.799699   \n",
              "\n",
              "            Conductivity  Organic_carbon  Trihalomethanes  Turbidity  \n",
              "Potability                                                            \n",
              "0             429.183886       14.369041        66.052267   3.957449  \n",
              "1             426.496584       14.260597        66.473711   4.005617  "
            ]
          },
          "execution_count": 113,
          "metadata": {},
          "output_type": "execute_result"
        }
      ],
      "source": [
        "train_df.groupby('Potability').mean()"
      ]
    },
    {
      "cell_type": "code",
      "execution_count": null,
      "metadata": {
        "colab": {
          "base_uri": "https://localhost:8080/",
          "height": 455
        },
        "id": "LQUupXF2N3Mf",
        "outputId": "c74c0fa0-40ba-412a-a091-247565bee115"
      },
      "outputs": [
        {
          "data": {
            "text/html": [
              "\n",
              "  <div id=\"df-a7e740b3-3b22-4cab-b7b3-8942d3defd15\">\n",
              "    <div class=\"colab-df-container\">\n",
              "      <div>\n",
              "<style scoped>\n",
              "    .dataframe tbody tr th:only-of-type {\n",
              "        vertical-align: middle;\n",
              "    }\n",
              "\n",
              "    .dataframe tbody tr th {\n",
              "        vertical-align: top;\n",
              "    }\n",
              "\n",
              "    .dataframe thead th {\n",
              "        text-align: right;\n",
              "    }\n",
              "</style>\n",
              "<table border=\"1\" class=\"dataframe\">\n",
              "  <thead>\n",
              "    <tr style=\"text-align: right;\">\n",
              "      <th></th>\n",
              "      <th>ph</th>\n",
              "      <th>Hardness</th>\n",
              "      <th>Chloramines</th>\n",
              "      <th>Sulfate</th>\n",
              "      <th>Conductivity</th>\n",
              "      <th>Organic_carbon</th>\n",
              "      <th>Trihalomethanes</th>\n",
              "      <th>Turbidity</th>\n",
              "      <th>Potability</th>\n",
              "    </tr>\n",
              "    <tr>\n",
              "      <th>Solids</th>\n",
              "      <th></th>\n",
              "      <th></th>\n",
              "      <th></th>\n",
              "      <th></th>\n",
              "      <th></th>\n",
              "      <th></th>\n",
              "      <th></th>\n",
              "      <th></th>\n",
              "      <th></th>\n",
              "    </tr>\n",
              "  </thead>\n",
              "  <tbody>\n",
              "    <tr>\n",
              "      <th>320.942611</th>\n",
              "      <td>7.417824</td>\n",
              "      <td>243.304691</td>\n",
              "      <td>4.598670</td>\n",
              "      <td>336.097981</td>\n",
              "      <td>361.101769</td>\n",
              "      <td>20.421472</td>\n",
              "      <td>87.052576</td>\n",
              "      <td>3.470812</td>\n",
              "      <td>0.0</td>\n",
              "    </tr>\n",
              "    <tr>\n",
              "      <th>1198.943699</th>\n",
              "      <td>6.185925</td>\n",
              "      <td>236.034783</td>\n",
              "      <td>6.140033</td>\n",
              "      <td>374.095388</td>\n",
              "      <td>436.236198</td>\n",
              "      <td>11.093811</td>\n",
              "      <td>99.775078</td>\n",
              "      <td>4.090264</td>\n",
              "      <td>1.0</td>\n",
              "    </tr>\n",
              "    <tr>\n",
              "      <th>1351.906979</th>\n",
              "      <td>5.731042</td>\n",
              "      <td>223.704966</td>\n",
              "      <td>6.496723</td>\n",
              "      <td>380.514079</td>\n",
              "      <td>620.304639</td>\n",
              "      <td>14.672927</td>\n",
              "      <td>62.023630</td>\n",
              "      <td>3.675807</td>\n",
              "      <td>1.0</td>\n",
              "    </tr>\n",
              "    <tr>\n",
              "      <th>1372.091043</th>\n",
              "      <td>7.381758</td>\n",
              "      <td>203.460302</td>\n",
              "      <td>11.129154</td>\n",
              "      <td>475.737460</td>\n",
              "      <td>361.342496</td>\n",
              "      <td>16.548438</td>\n",
              "      <td>55.132546</td>\n",
              "      <td>3.338022</td>\n",
              "      <td>1.0</td>\n",
              "    </tr>\n",
              "    <tr>\n",
              "      <th>2552.962804</th>\n",
              "      <td>8.692115</td>\n",
              "      <td>144.236358</td>\n",
              "      <td>9.202634</td>\n",
              "      <td>347.975137</td>\n",
              "      <td>517.427471</td>\n",
              "      <td>13.963421</td>\n",
              "      <td>42.388661</td>\n",
              "      <td>2.283475</td>\n",
              "      <td>0.0</td>\n",
              "    </tr>\n",
              "    <tr>\n",
              "      <th>...</th>\n",
              "      <td>...</td>\n",
              "      <td>...</td>\n",
              "      <td>...</td>\n",
              "      <td>...</td>\n",
              "      <td>...</td>\n",
              "      <td>...</td>\n",
              "      <td>...</td>\n",
              "      <td>...</td>\n",
              "      <td>...</td>\n",
              "    </tr>\n",
              "    <tr>\n",
              "      <th>50279.262429</th>\n",
              "      <td>9.252857</td>\n",
              "      <td>168.040751</td>\n",
              "      <td>5.905056</td>\n",
              "      <td>415.450810</td>\n",
              "      <td>400.003589</td>\n",
              "      <td>11.949854</td>\n",
              "      <td>62.256881</td>\n",
              "      <td>3.300586</td>\n",
              "      <td>0.0</td>\n",
              "    </tr>\n",
              "    <tr>\n",
              "      <th>50793.898917</th>\n",
              "      <td>8.140344</td>\n",
              "      <td>153.748170</td>\n",
              "      <td>7.843498</td>\n",
              "      <td>306.218950</td>\n",
              "      <td>423.455906</td>\n",
              "      <td>14.322019</td>\n",
              "      <td>65.076610</td>\n",
              "      <td>4.362792</td>\n",
              "      <td>1.0</td>\n",
              "    </tr>\n",
              "    <tr>\n",
              "      <th>55334.702799</th>\n",
              "      <td>3.344589</td>\n",
              "      <td>156.479927</td>\n",
              "      <td>8.530102</td>\n",
              "      <td>371.147770</td>\n",
              "      <td>485.631148</td>\n",
              "      <td>16.980610</td>\n",
              "      <td>69.622490</td>\n",
              "      <td>2.575141</td>\n",
              "      <td>0.0</td>\n",
              "    </tr>\n",
              "    <tr>\n",
              "      <th>56351.396304</th>\n",
              "      <td>9.484703</td>\n",
              "      <td>122.906991</td>\n",
              "      <td>4.219711</td>\n",
              "      <td>219.553437</td>\n",
              "      <td>480.848063</td>\n",
              "      <td>13.533433</td>\n",
              "      <td>41.731219</td>\n",
              "      <td>4.132274</td>\n",
              "      <td>1.0</td>\n",
              "    </tr>\n",
              "    <tr>\n",
              "      <th>56488.672413</th>\n",
              "      <td>8.942046</td>\n",
              "      <td>215.673786</td>\n",
              "      <td>3.231438</td>\n",
              "      <td>129.000000</td>\n",
              "      <td>541.915468</td>\n",
              "      <td>9.313771</td>\n",
              "      <td>70.828374</td>\n",
              "      <td>4.354288</td>\n",
              "      <td>1.0</td>\n",
              "    </tr>\n",
              "  </tbody>\n",
              "</table>\n",
              "<p>1602 rows × 9 columns</p>\n",
              "</div>\n",
              "      <button class=\"colab-df-convert\" onclick=\"convertToInteractive('df-a7e740b3-3b22-4cab-b7b3-8942d3defd15')\"\n",
              "              title=\"Convert this dataframe to an interactive table.\"\n",
              "              style=\"display:none;\">\n",
              "        \n",
              "  <svg xmlns=\"http://www.w3.org/2000/svg\" height=\"24px\"viewBox=\"0 0 24 24\"\n",
              "       width=\"24px\">\n",
              "    <path d=\"M0 0h24v24H0V0z\" fill=\"none\"/>\n",
              "    <path d=\"M18.56 5.44l.94 2.06.94-2.06 2.06-.94-2.06-.94-.94-2.06-.94 2.06-2.06.94zm-11 1L8.5 8.5l.94-2.06 2.06-.94-2.06-.94L8.5 2.5l-.94 2.06-2.06.94zm10 10l.94 2.06.94-2.06 2.06-.94-2.06-.94-.94-2.06-.94 2.06-2.06.94z\"/><path d=\"M17.41 7.96l-1.37-1.37c-.4-.4-.92-.59-1.43-.59-.52 0-1.04.2-1.43.59L10.3 9.45l-7.72 7.72c-.78.78-.78 2.05 0 2.83L4 21.41c.39.39.9.59 1.41.59.51 0 1.02-.2 1.41-.59l7.78-7.78 2.81-2.81c.8-.78.8-2.07 0-2.86zM5.41 20L4 18.59l7.72-7.72 1.47 1.35L5.41 20z\"/>\n",
              "  </svg>\n",
              "      </button>\n",
              "      \n",
              "  <style>\n",
              "    .colab-df-container {\n",
              "      display:flex;\n",
              "      flex-wrap:wrap;\n",
              "      gap: 12px;\n",
              "    }\n",
              "\n",
              "    .colab-df-convert {\n",
              "      background-color: #E8F0FE;\n",
              "      border: none;\n",
              "      border-radius: 50%;\n",
              "      cursor: pointer;\n",
              "      display: none;\n",
              "      fill: #1967D2;\n",
              "      height: 32px;\n",
              "      padding: 0 0 0 0;\n",
              "      width: 32px;\n",
              "    }\n",
              "\n",
              "    .colab-df-convert:hover {\n",
              "      background-color: #E2EBFA;\n",
              "      box-shadow: 0px 1px 2px rgba(60, 64, 67, 0.3), 0px 1px 3px 1px rgba(60, 64, 67, 0.15);\n",
              "      fill: #174EA6;\n",
              "    }\n",
              "\n",
              "    [theme=dark] .colab-df-convert {\n",
              "      background-color: #3B4455;\n",
              "      fill: #D2E3FC;\n",
              "    }\n",
              "\n",
              "    [theme=dark] .colab-df-convert:hover {\n",
              "      background-color: #434B5C;\n",
              "      box-shadow: 0px 1px 3px 1px rgba(0, 0, 0, 0.15);\n",
              "      filter: drop-shadow(0px 1px 2px rgba(0, 0, 0, 0.3));\n",
              "      fill: #FFFFFF;\n",
              "    }\n",
              "  </style>\n",
              "\n",
              "      <script>\n",
              "        const buttonEl =\n",
              "          document.querySelector('#df-a7e740b3-3b22-4cab-b7b3-8942d3defd15 button.colab-df-convert');\n",
              "        buttonEl.style.display =\n",
              "          google.colab.kernel.accessAllowed ? 'block' : 'none';\n",
              "\n",
              "        async function convertToInteractive(key) {\n",
              "          const element = document.querySelector('#df-a7e740b3-3b22-4cab-b7b3-8942d3defd15');\n",
              "          const dataTable =\n",
              "            await google.colab.kernel.invokeFunction('convertToInteractive',\n",
              "                                                     [key], {});\n",
              "          if (!dataTable) return;\n",
              "\n",
              "          const docLinkHtml = 'Like what you see? Visit the ' +\n",
              "            '<a target=\"_blank\" href=https://colab.research.google.com/notebooks/data_table.ipynb>data table notebook</a>'\n",
              "            + ' to learn more about interactive tables.';\n",
              "          element.innerHTML = '';\n",
              "          dataTable['output_type'] = 'display_data';\n",
              "          await google.colab.output.renderOutput(dataTable, element);\n",
              "          const docLink = document.createElement('div');\n",
              "          docLink.innerHTML = docLinkHtml;\n",
              "          element.appendChild(docLink);\n",
              "        }\n",
              "      </script>\n",
              "    </div>\n",
              "  </div>\n",
              "  "
            ],
            "text/plain": [
              "                    ph    Hardness  Chloramines     Sulfate  Conductivity  \\\n",
              "Solids                                                                      \n",
              "320.942611    7.417824  243.304691     4.598670  336.097981    361.101769   \n",
              "1198.943699   6.185925  236.034783     6.140033  374.095388    436.236198   \n",
              "1351.906979   5.731042  223.704966     6.496723  380.514079    620.304639   \n",
              "1372.091043   7.381758  203.460302    11.129154  475.737460    361.342496   \n",
              "2552.962804   8.692115  144.236358     9.202634  347.975137    517.427471   \n",
              "...                ...         ...          ...         ...           ...   \n",
              "50279.262429  9.252857  168.040751     5.905056  415.450810    400.003589   \n",
              "50793.898917  8.140344  153.748170     7.843498  306.218950    423.455906   \n",
              "55334.702799  3.344589  156.479927     8.530102  371.147770    485.631148   \n",
              "56351.396304  9.484703  122.906991     4.219711  219.553437    480.848063   \n",
              "56488.672413  8.942046  215.673786     3.231438  129.000000    541.915468   \n",
              "\n",
              "              Organic_carbon  Trihalomethanes  Turbidity  Potability  \n",
              "Solids                                                                \n",
              "320.942611         20.421472        87.052576   3.470812         0.0  \n",
              "1198.943699        11.093811        99.775078   4.090264         1.0  \n",
              "1351.906979        14.672927        62.023630   3.675807         1.0  \n",
              "1372.091043        16.548438        55.132546   3.338022         1.0  \n",
              "2552.962804        13.963421        42.388661   2.283475         0.0  \n",
              "...                      ...              ...        ...         ...  \n",
              "50279.262429       11.949854        62.256881   3.300586         0.0  \n",
              "50793.898917       14.322019        65.076610   4.362792         1.0  \n",
              "55334.702799       16.980610        69.622490   2.575141         0.0  \n",
              "56351.396304       13.533433        41.731219   4.132274         1.0  \n",
              "56488.672413        9.313771        70.828374   4.354288         1.0  \n",
              "\n",
              "[1602 rows x 9 columns]"
            ]
          },
          "execution_count": 114,
          "metadata": {},
          "output_type": "execute_result"
        }
      ],
      "source": [
        "train_df.groupby('Solids').mean()"
      ]
    },
    {
      "cell_type": "code",
      "execution_count": null,
      "metadata": {
        "colab": {
          "base_uri": "https://localhost:8080/"
        },
        "id": "rxrENUGWN-1s",
        "outputId": "f7cec6d5-832d-4da6-eb1e-995f32496ff9"
      },
      "outputs": [
        {
          "name": "stderr",
          "output_type": "stream",
          "text": [
            "/usr/local/lib/python3.7/dist-packages/sklearn/linear_model/_logistic.py:818: ConvergenceWarning: lbfgs failed to converge (status=1):\n",
            "STOP: TOTAL NO. of ITERATIONS REACHED LIMIT.\n",
            "\n",
            "Increase the number of iterations (max_iter) or scale the data as shown in:\n",
            "    https://scikit-learn.org/stable/modules/preprocessing.html\n",
            "Please also refer to the documentation for alternative solver options:\n",
            "    https://scikit-learn.org/stable/modules/linear_model.html#logistic-regression\n",
            "  extra_warning_msg=_LOGISTIC_SOLVER_CONVERGENCE_MSG,\n"
          ]
        }
      ],
      "source": [
        "from sklearn.linear_model import LogisticRegression\n",
        "logreg = LogisticRegression()\n",
        "logreg.fit(X_train,y_train)\n",
        "y_pred = logreg.predict(X_test)"
      ]
    },
    {
      "cell_type": "code",
      "execution_count": null,
      "metadata": {
        "colab": {
          "base_uri": "https://localhost:8080/"
        },
        "id": "9lHdYPofPQ8w",
        "outputId": "4c4103a0-14b4-45ab-9bcd-2fb8e60779d3"
      },
      "outputs": [
        {
          "data": {
            "text/plain": [
              "array([[224,  17],\n",
              "       [ 33, 135]])"
            ]
          },
          "execution_count": 116,
          "metadata": {},
          "output_type": "execute_result"
        }
      ],
      "source": [
        "from sklearn import metrics\n",
        "cnf_matrix = metrics.confusion_matrix(y_test, y_pred)\n",
        "cnf_matrix"
      ]
    },
    {
      "cell_type": "code",
      "execution_count": null,
      "metadata": {
        "id": "pJzD-2BZPTqA"
      },
      "outputs": [],
      "source": [
        "import numpy as np\n",
        "import matplotlib.pyplot as plt\n",
        "import seaborn as sns\n",
        "%matplotlib inline"
      ]
    },
    {
      "cell_type": "code",
      "execution_count": null,
      "metadata": {
        "colab": {
          "base_uri": "https://localhost:8080/",
          "height": 344
        },
        "id": "HXdQ7g8_PX6S",
        "outputId": "325b60c6-bd7a-4352-ca71-23ea7d7db6bc"
      },
      "outputs": [
        {
          "data": {
            "text/plain": [
              "Text(0.5, 257.44, 'Predicted label')"
            ]
          },
          "execution_count": 118,
          "metadata": {},
          "output_type": "execute_result"
        },
        {
          "data": {
            "image/png": "[encoded data removed]",
            "text/plain": [
              "<Figure size 432x288 with 2 Axes>"
            ]
          },
          "metadata": {},
          "output_type": "display_data"
        }
      ],
      "source": [
        "class_names=[0,1] # name  of classes\n",
        "fig, ax = plt.subplots()\n",
        "tick_marks = np.arange(len(class_names))\n",
        "plt.xticks(tick_marks, class_names)\n",
        "plt.yticks(tick_marks, class_names)\n",
        "# create heatmap\n",
        "sns.heatmap(pd.DataFrame(cnf_matrix), annot=True, cmap=\"YlGnBu\" ,fmt='g')\n",
        "ax.xaxis.set_label_position(\"top\")\n",
        "plt.tight_layout()\n",
        "plt.title('Confusion matrix', y=1.1)\n",
        "plt.ylabel('Actual label')\n",
        "plt.xlabel('Predicted label')"
      ]
    },
    {
      "cell_type": "code",
      "execution_count": null,
      "metadata": {
        "colab": {
          "base_uri": "https://localhost:8080/"
        },
        "id": "MXobNx8PPdL8",
        "outputId": "6abc5ebc-bb71-462c-cd1f-03dee5480401"
      },
      "outputs": [
        {
          "name": "stdout",
          "output_type": "stream",
          "text": [
            "[1 0 1 0 1 1 0 1 0 1 0 0 1 1 0 0 0 0 1 0 0 0 1 1 1 1 0 0 1 0 0 0 0 1 0 0 0\n",
            " 0 0 0 1 0 0 0 0 0 0 1 0 1 0 1 1 0 0 1 1 0 0 0 0 1 0 0 0 0 0 0 1 0 1 1 1 1\n",
            " 1 0 0 0 0 0 1 0 1 0 1 0 0 0 0 0 0 0 0 0 0 1 1 0 1 0 1 0 0 0 0 1 0 1 0 0 1\n",
            " 0 1 1 0 0 1 0 0 0 1 0 1 0 0 0 0 0 0 0 0 1 0 1 0 1 1 1 1 1 0 1 1 1 1 1 1 0\n",
            " 1 0 0 0 0 0 1 0 1 0 1 0 1 1 0 1 0 0 1 0 0 0 0 0 0 0 1 0 1 0 0 0 1 1 1 0 0\n",
            " 0 1 0 0 1 1 1 0 1 0 0 1 1 0 0 1 0 0 0 0 1 0 0 0 0 0 0 0 1 0 0 0 0 1 0 0 0\n",
            " 0 0 0 1 0 0 1 0 0 0 1 0 0 0 0 1 0 1 0 0 0 0 1 1 0 0 0 1 0 1 1 1 0 0 0 0 1\n",
            " 0 0 1 0 1 0 1 1 1 0 0 1 1 0 1 0 0 0 0 1 0 1 1 0 1 1 0 0 0 0 1 0 0 0 0 0 1\n",
            " 0 1 1 0 1 0 1 0 1 1 0 0 0 0 1 0 0 0 1 1 0 1 1 1 1 0 0 1 0 0 0 0 1 1 0 0 1\n",
            " 0 0 0 1 0 0 1 1 0 0 0 0 1 1 0 0 1 0 1 1 0 1 1 0 1 0 0 0 0 0 1 1 0 1 0 1 1\n",
            " 0 1 0 0 0 1 1 0 0 0 0 1 0 1 0 0 0 0 0 0 1 0 1 0 0 0 0 0 1 0 0 0 1 0 0 0 1\n",
            " 1 0]\n"
          ]
        },
        {
          "name": "stderr",
          "output_type": "stream",
          "text": [
            "/usr/local/lib/python3.7/dist-packages/sklearn/linear_model/_logistic.py:818: ConvergenceWarning: lbfgs failed to converge (status=1):\n",
            "STOP: TOTAL NO. of ITERATIONS REACHED LIMIT.\n",
            "\n",
            "Increase the number of iterations (max_iter) or scale the data as shown in:\n",
            "    https://scikit-learn.org/stable/modules/preprocessing.html\n",
            "Please also refer to the documentation for alternative solver options:\n",
            "    https://scikit-learn.org/stable/modules/linear_model.html#logistic-regression\n",
            "  extra_warning_msg=_LOGISTIC_SOLVER_CONVERGENCE_MSG,\n"
          ]
        }
      ],
      "source": [
        "clf_log=LogisticRegression().fit(X_train, y_train)\n",
        "y_pred=clf_log.predict(X_test)\n",
        "print(y_pred)"
      ]
    },
    {
      "cell_type": "markdown",
      "metadata": {
        "id": "HrRwjkQJUBNw"
      },
      "source": [
        "We get the confusion matrix, which is not surprising. The number of correct and incorrect predictions are summarized with count values and broken down by each class. We believe that there is a strong distinction between the two sets of data."
      ]
    },
    {
      "cell_type": "code",
      "execution_count": null,
      "metadata": {
        "colab": {
          "base_uri": "https://localhost:8080/"
        },
        "id": "uo-spXdkPhw1",
        "outputId": "54324935-7dd1-4847-d80a-9f7c866c5250"
      },
      "outputs": [
        {
          "name": "stdout",
          "output_type": "stream",
          "text": [
            "Accuracy: 0.8777506112469438\n",
            "Precision: 0.8881578947368421\n",
            "Recall: 0.8035714285714286\n",
            "F1_score: 0.8035714285714286\n"
          ]
        }
      ],
      "source": [
        "print(\"Accuracy:\",metrics.accuracy_score(y_test, y_pred))\n",
        "print(\"Precision:\",metrics.precision_score(y_test, y_pred))\n",
        "print(\"Recall:\",metrics.recall_score(y_test, y_pred))\n",
        "print(\"F1_score:\",metrics.recall_score(y_test, y_pred))"
      ]
    },
    {
      "cell_type": "code",
      "execution_count": null,
      "metadata": {
        "colab": {
          "base_uri": "https://localhost:8080/",
          "height": 267
        },
        "id": "WedX3VQJPk-z",
        "outputId": "c3ae0911-cd69-4de1-f320-d634ae926056"
      },
      "outputs": [
        {
          "data": {
            "image/png": "[encoded data removed]",
            "text/plain": [
              "<Figure size 432x288 with 1 Axes>"
            ]
          },
          "metadata": {},
          "output_type": "display_data"
        }
      ],
      "source": [
        "y_pred_proba = logreg.predict_proba(X_test)[::,1]\n",
        "fpr, tpr, _ = metrics.roc_curve(y_test,  y_pred_proba)\n",
        "auc = metrics.roc_auc_score(y_test, y_pred_proba)\n",
        "plt.plot(fpr,tpr,label=\"data 1, auc=\"+str(auc))\n",
        "plt.legend(loc=4)\n",
        "plt.show()"
      ]
    },
    {
      "cell_type": "markdown",
      "metadata": {
        "id": "vX30L_MM2-nm"
      },
      "source": [
        "An excellent model has AUC near to the 1 which means it has a good measure of separability. The score here is 0.92, which means that the model has a 92% chance of distinguishing between positive and negative categories."
      ]
    },
    {
      "cell_type": "code",
      "execution_count": null,
      "metadata": {
        "colab": {
          "base_uri": "https://localhost:8080/"
        },
        "id": "kyaNa5gxPpfx",
        "outputId": "3a4f4672-4e16-4d22-998e-a4a16076e705"
      },
      "outputs": [
        {
          "name": "stdout",
          "output_type": "stream",
          "text": [
            "                       ph  Hardness    Solids  Chloramines   Sulfate  \\\n",
            "ph               1.000000  0.086621 -0.072988    -0.031313  0.004044   \n",
            "Hardness         0.086621  1.000000 -0.043533    -0.025150 -0.114617   \n",
            "Solids          -0.072988 -0.043533  1.000000    -0.036328 -0.172909   \n",
            "Chloramines     -0.031313 -0.025150 -0.036328     1.000000 -0.001277   \n",
            "Sulfate          0.004044 -0.114617 -0.172909    -0.001277  1.000000   \n",
            "Conductivity     0.017656  0.019833 -0.003457    -0.030282 -0.021025   \n",
            "Organic_carbon   0.024324  0.020973 -0.002927     0.003848  0.028787   \n",
            "Trihalomethanes  0.014870 -0.020480 -0.012783     0.004479 -0.034785   \n",
            "Turbidity       -0.039905 -0.019525  0.026430     0.021841 -0.022708   \n",
            "Potability       0.032247 -0.004834  0.036645     0.021703 -0.018261   \n",
            "\n",
            "                 Conductivity  Organic_carbon  Trihalomethanes  Turbidity  \\\n",
            "ph                   0.017656        0.024324         0.014870  -0.039905   \n",
            "Hardness             0.019833        0.020973        -0.020480  -0.019525   \n",
            "Solids              -0.003457       -0.002927        -0.012783   0.026430   \n",
            "Chloramines         -0.030282        0.003848         0.004479   0.021841   \n",
            "Sulfate             -0.021025        0.028787        -0.034785  -0.022708   \n",
            "Conductivity         1.000000        0.027576         0.015398   0.005560   \n",
            "Organic_carbon       0.027576        1.000000         0.010205  -0.007578   \n",
            "Trihalomethanes      0.015398        0.010205         1.000000  -0.025676   \n",
            "Turbidity            0.005560       -0.007578        -0.025676   1.000000   \n",
            "Potability          -0.016500       -0.015799         0.012894   0.030406   \n",
            "\n",
            "                 Potability  \n",
            "ph                 0.032247  \n",
            "Hardness          -0.004834  \n",
            "Solids             0.036645  \n",
            "Chloramines        0.021703  \n",
            "Sulfate           -0.018261  \n",
            "Conductivity      -0.016500  \n",
            "Organic_carbon    -0.015799  \n",
            "Trihalomethanes    0.012894  \n",
            "Turbidity          0.030406  \n",
            "Potability         1.000000  \n"
          ]
        }
      ],
      "source": [
        "multicolinearity_check = X_train.corr()\n",
        "print(multicolinearity_check)\n"
      ]
    },
    {
      "cell_type": "markdown",
      "metadata": {
        "id": "a0YTlcHz6ozH"
      },
      "source": [
        "Decision tree."
      ]
    },
    {
      "cell_type": "code",
      "execution_count": null,
      "metadata": {
        "id": "w595Xdqdx9Ob"
      },
      "outputs": [],
      "source": [
        "# import libraries.\n",
        "import pandas as pd\n",
        "import numpy as np\n",
        "import matplotlib.pyplot as plt\n",
        "import seaborn as sns\n",
        "%matplotlib inline\n",
        "import numpy as np\n",
        "import matplotlib.pyplot as plt\n",
        "import seaborn as sns; sns.set()"
      ]
    },
    {
      "cell_type": "markdown",
      "source": [
        "here we input data"
      ],
      "metadata": {
        "id": "8f5BQlsp45Os"
      }
    },
    {
      "cell_type": "code",
      "execution_count": null,
      "metadata": {
        "colab": {
          "base_uri": "https://localhost:8080/",
          "height": 270
        },
        "id": "sUrwhC-qRyYj",
        "outputId": "f32385e0-3867-42e7-f9cf-efce20ce55de"
      },
      "outputs": [
        {
          "output_type": "execute_result",
          "data": {
            "text/plain": [
              "         ph    Hardness        Solids  Chloramines     Sulfate  Conductivity  \\\n",
              "0       NaN  204.890455  20791.318981     7.300212  368.516441    564.308654   \n",
              "1  3.716080  129.422921  18630.057858     6.635246         NaN    592.885359   \n",
              "2  8.099124  224.236259  19909.541732     9.275884         NaN    418.606213   \n",
              "3  8.316766  214.373394  22018.417441     8.059332  356.886136    363.266516   \n",
              "4  9.092223  181.101509  17978.986339     6.546600  310.135738    398.410813   \n",
              "\n",
              "   Organic_carbon  Trihalomethanes  Turbidity  Potability  \n",
              "0       10.379783        86.990970   2.963135           0  \n",
              "1       15.180013        56.329076   4.500656           0  \n",
              "2       16.868637        66.420093   3.055934           0  \n",
              "3       18.436524       100.341674   4.628771           0  \n",
              "4       11.558279        31.997993   4.075075           0  "
            ],
            "text/html": [
              "\n",
              "  <div id=\"df-c46e8275-8b21-451a-b86d-2ec51a14fb2f\">\n",
              "    <div class=\"colab-df-container\">\n",
              "      <div>\n",
              "<style scoped>\n",
              "    .dataframe tbody tr th:only-of-type {\n",
              "        vertical-align: middle;\n",
              "    }\n",
              "\n",
              "    .dataframe tbody tr th {\n",
              "        vertical-align: top;\n",
              "    }\n",
              "\n",
              "    .dataframe thead th {\n",
              "        text-align: right;\n",
              "    }\n",
              "</style>\n",
              "<table border=\"1\" class=\"dataframe\">\n",
              "  <thead>\n",
              "    <tr style=\"text-align: right;\">\n",
              "      <th></th>\n",
              "      <th>ph</th>\n",
              "      <th>Hardness</th>\n",
              "      <th>Solids</th>\n",
              "      <th>Chloramines</th>\n",
              "      <th>Sulfate</th>\n",
              "      <th>Conductivity</th>\n",
              "      <th>Organic_carbon</th>\n",
              "      <th>Trihalomethanes</th>\n",
              "      <th>Turbidity</th>\n",
              "      <th>Potability</th>\n",
              "    </tr>\n",
              "  </thead>\n",
              "  <tbody>\n",
              "    <tr>\n",
              "      <th>0</th>\n",
              "      <td>NaN</td>\n",
              "      <td>204.890455</td>\n",
              "      <td>20791.318981</td>\n",
              "      <td>7.300212</td>\n",
              "      <td>368.516441</td>\n",
              "      <td>564.308654</td>\n",
              "      <td>10.379783</td>\n",
              "      <td>86.990970</td>\n",
              "      <td>2.963135</td>\n",
              "      <td>0</td>\n",
              "    </tr>\n",
              "    <tr>\n",
              "      <th>1</th>\n",
              "      <td>3.716080</td>\n",
              "      <td>129.422921</td>\n",
              "      <td>18630.057858</td>\n",
              "      <td>6.635246</td>\n",
              "      <td>NaN</td>\n",
              "      <td>592.885359</td>\n",
              "      <td>15.180013</td>\n",
              "      <td>56.329076</td>\n",
              "      <td>4.500656</td>\n",
              "      <td>0</td>\n",
              "    </tr>\n",
              "    <tr>\n",
              "      <th>2</th>\n",
              "      <td>8.099124</td>\n",
              "      <td>224.236259</td>\n",
              "      <td>19909.541732</td>\n",
              "      <td>9.275884</td>\n",
              "      <td>NaN</td>\n",
              "      <td>418.606213</td>\n",
              "      <td>16.868637</td>\n",
              "      <td>66.420093</td>\n",
              "      <td>3.055934</td>\n",
              "      <td>0</td>\n",
              "    </tr>\n",
              "    <tr>\n",
              "      <th>3</th>\n",
              "      <td>8.316766</td>\n",
              "      <td>214.373394</td>\n",
              "      <td>22018.417441</td>\n",
              "      <td>8.059332</td>\n",
              "      <td>356.886136</td>\n",
              "      <td>363.266516</td>\n",
              "      <td>18.436524</td>\n",
              "      <td>100.341674</td>\n",
              "      <td>4.628771</td>\n",
              "      <td>0</td>\n",
              "    </tr>\n",
              "    <tr>\n",
              "      <th>4</th>\n",
              "      <td>9.092223</td>\n",
              "      <td>181.101509</td>\n",
              "      <td>17978.986339</td>\n",
              "      <td>6.546600</td>\n",
              "      <td>310.135738</td>\n",
              "      <td>398.410813</td>\n",
              "      <td>11.558279</td>\n",
              "      <td>31.997993</td>\n",
              "      <td>4.075075</td>\n",
              "      <td>0</td>\n",
              "    </tr>\n",
              "  </tbody>\n",
              "</table>\n",
              "</div>\n",
              "      <button class=\"colab-df-convert\" onclick=\"convertToInteractive('df-c46e8275-8b21-451a-b86d-2ec51a14fb2f')\"\n",
              "              title=\"Convert this dataframe to an interactive table.\"\n",
              "              style=\"display:none;\">\n",
              "        \n",
              "  <svg xmlns=\"http://www.w3.org/2000/svg\" height=\"24px\"viewBox=\"0 0 24 24\"\n",
              "       width=\"24px\">\n",
              "    <path d=\"M0 0h24v24H0V0z\" fill=\"none\"/>\n",
              "    <path d=\"M18.56 5.44l.94 2.06.94-2.06 2.06-.94-2.06-.94-.94-2.06-.94 2.06-2.06.94zm-11 1L8.5 8.5l.94-2.06 2.06-.94-2.06-.94L8.5 2.5l-.94 2.06-2.06.94zm10 10l.94 2.06.94-2.06 2.06-.94-2.06-.94-.94-2.06-.94 2.06-2.06.94z\"/><path d=\"M17.41 7.96l-1.37-1.37c-.4-.4-.92-.59-1.43-.59-.52 0-1.04.2-1.43.59L10.3 9.45l-7.72 7.72c-.78.78-.78 2.05 0 2.83L4 21.41c.39.39.9.59 1.41.59.51 0 1.02-.2 1.41-.59l7.78-7.78 2.81-2.81c.8-.78.8-2.07 0-2.86zM5.41 20L4 18.59l7.72-7.72 1.47 1.35L5.41 20z\"/>\n",
              "  </svg>\n",
              "      </button>\n",
              "      \n",
              "  <style>\n",
              "    .colab-df-container {\n",
              "      display:flex;\n",
              "      flex-wrap:wrap;\n",
              "      gap: 12px;\n",
              "    }\n",
              "\n",
              "    .colab-df-convert {\n",
              "      background-color: #E8F0FE;\n",
              "      border: none;\n",
              "      border-radius: 50%;\n",
              "      cursor: pointer;\n",
              "      display: none;\n",
              "      fill: #1967D2;\n",
              "      height: 32px;\n",
              "      padding: 0 0 0 0;\n",
              "      width: 32px;\n",
              "    }\n",
              "\n",
              "    .colab-df-convert:hover {\n",
              "      background-color: #E2EBFA;\n",
              "      box-shadow: 0px 1px 2px rgba(60, 64, 67, 0.3), 0px 1px 3px 1px rgba(60, 64, 67, 0.15);\n",
              "      fill: #174EA6;\n",
              "    }\n",
              "\n",
              "    [theme=dark] .colab-df-convert {\n",
              "      background-color: #3B4455;\n",
              "      fill: #D2E3FC;\n",
              "    }\n",
              "\n",
              "    [theme=dark] .colab-df-convert:hover {\n",
              "      background-color: #434B5C;\n",
              "      box-shadow: 0px 1px 3px 1px rgba(0, 0, 0, 0.15);\n",
              "      filter: drop-shadow(0px 1px 2px rgba(0, 0, 0, 0.3));\n",
              "      fill: #FFFFFF;\n",
              "    }\n",
              "  </style>\n",
              "\n",
              "      <script>\n",
              "        const buttonEl =\n",
              "          document.querySelector('#df-c46e8275-8b21-451a-b86d-2ec51a14fb2f button.colab-df-convert');\n",
              "        buttonEl.style.display =\n",
              "          google.colab.kernel.accessAllowed ? 'block' : 'none';\n",
              "\n",
              "        async function convertToInteractive(key) {\n",
              "          const element = document.querySelector('#df-c46e8275-8b21-451a-b86d-2ec51a14fb2f');\n",
              "          const dataTable =\n",
              "            await google.colab.kernel.invokeFunction('convertToInteractive',\n",
              "                                                     [key], {});\n",
              "          if (!dataTable) return;\n",
              "\n",
              "          const docLinkHtml = 'Like what you see? Visit the ' +\n",
              "            '<a target=\"_blank\" href=https://colab.research.google.com/notebooks/data_table.ipynb>data table notebook</a>'\n",
              "            + ' to learn more about interactive tables.';\n",
              "          element.innerHTML = '';\n",
              "          dataTable['output_type'] = 'display_data';\n",
              "          await google.colab.output.renderOutput(dataTable, element);\n",
              "          const docLink = document.createElement('div');\n",
              "          docLink.innerHTML = docLinkHtml;\n",
              "          element.appendChild(docLink);\n",
              "        }\n",
              "      </script>\n",
              "    </div>\n",
              "  </div>\n",
              "  "
            ]
          },
          "metadata": {},
          "execution_count": 7
        }
      ],
      "source": [
        "# import database.\n",
        "waterdata = pd.read_csv('water_potability.csv')\n",
        "waterdata.head(5)"
      ]
    },
    {
      "cell_type": "code",
      "execution_count": null,
      "metadata": {
        "id": "Gx8TKvrNR6PO"
      },
      "outputs": [],
      "source": [
        "# drop empty values.\n",
        "waterdata=waterdata.dropna()"
      ]
    },
    {
      "cell_type": "code",
      "execution_count": null,
      "metadata": {
        "colab": {
          "base_uri": "https://localhost:8080/",
          "height": 270
        },
        "id": "Jd6X8Q5MSuEN",
        "outputId": "89fefd5c-cef5-42f6-f59a-4791d116641e"
      },
      "outputs": [
        {
          "output_type": "execute_result",
          "data": {
            "text/plain": [
              "          ph    Hardness        Solids  Chloramines     Sulfate  Conductivity  \\\n",
              "3   8.316766  214.373394  22018.417441     8.059332  356.886136    363.266516   \n",
              "4   9.092223  181.101509  17978.986339     6.546600  310.135738    398.410813   \n",
              "5   5.584087  188.313324  28748.687739     7.544869  326.678363    280.467916   \n",
              "6  10.223862  248.071735  28749.716544     7.513408  393.663396    283.651634   \n",
              "7   8.635849  203.361523  13672.091764     4.563009  303.309771    474.607645   \n",
              "\n",
              "   Organic_carbon  Trihalomethanes  Turbidity  Potability  \n",
              "3       18.436524       100.341674   4.628771           0  \n",
              "4       11.558279        31.997993   4.075075           0  \n",
              "5        8.399735        54.917862   2.559708           0  \n",
              "6       13.789695        84.603556   2.672989           0  \n",
              "7       12.363817        62.798309   4.401425           0  "
            ],
            "text/html": [
              "\n",
              "  <div id=\"df-39b4b742-86fd-4a1e-95b6-d3ba331c3b8f\">\n",
              "    <div class=\"colab-df-container\">\n",
              "      <div>\n",
              "<style scoped>\n",
              "    .dataframe tbody tr th:only-of-type {\n",
              "        vertical-align: middle;\n",
              "    }\n",
              "\n",
              "    .dataframe tbody tr th {\n",
              "        vertical-align: top;\n",
              "    }\n",
              "\n",
              "    .dataframe thead th {\n",
              "        text-align: right;\n",
              "    }\n",
              "</style>\n",
              "<table border=\"1\" class=\"dataframe\">\n",
              "  <thead>\n",
              "    <tr style=\"text-align: right;\">\n",
              "      <th></th>\n",
              "      <th>ph</th>\n",
              "      <th>Hardness</th>\n",
              "      <th>Solids</th>\n",
              "      <th>Chloramines</th>\n",
              "      <th>Sulfate</th>\n",
              "      <th>Conductivity</th>\n",
              "      <th>Organic_carbon</th>\n",
              "      <th>Trihalomethanes</th>\n",
              "      <th>Turbidity</th>\n",
              "      <th>Potability</th>\n",
              "    </tr>\n",
              "  </thead>\n",
              "  <tbody>\n",
              "    <tr>\n",
              "      <th>3</th>\n",
              "      <td>8.316766</td>\n",
              "      <td>214.373394</td>\n",
              "      <td>22018.417441</td>\n",
              "      <td>8.059332</td>\n",
              "      <td>356.886136</td>\n",
              "      <td>363.266516</td>\n",
              "      <td>18.436524</td>\n",
              "      <td>100.341674</td>\n",
              "      <td>4.628771</td>\n",
              "      <td>0</td>\n",
              "    </tr>\n",
              "    <tr>\n",
              "      <th>4</th>\n",
              "      <td>9.092223</td>\n",
              "      <td>181.101509</td>\n",
              "      <td>17978.986339</td>\n",
              "      <td>6.546600</td>\n",
              "      <td>310.135738</td>\n",
              "      <td>398.410813</td>\n",
              "      <td>11.558279</td>\n",
              "      <td>31.997993</td>\n",
              "      <td>4.075075</td>\n",
              "      <td>0</td>\n",
              "    </tr>\n",
              "    <tr>\n",
              "      <th>5</th>\n",
              "      <td>5.584087</td>\n",
              "      <td>188.313324</td>\n",
              "      <td>28748.687739</td>\n",
              "      <td>7.544869</td>\n",
              "      <td>326.678363</td>\n",
              "      <td>280.467916</td>\n",
              "      <td>8.399735</td>\n",
              "      <td>54.917862</td>\n",
              "      <td>2.559708</td>\n",
              "      <td>0</td>\n",
              "    </tr>\n",
              "    <tr>\n",
              "      <th>6</th>\n",
              "      <td>10.223862</td>\n",
              "      <td>248.071735</td>\n",
              "      <td>28749.716544</td>\n",
              "      <td>7.513408</td>\n",
              "      <td>393.663396</td>\n",
              "      <td>283.651634</td>\n",
              "      <td>13.789695</td>\n",
              "      <td>84.603556</td>\n",
              "      <td>2.672989</td>\n",
              "      <td>0</td>\n",
              "    </tr>\n",
              "    <tr>\n",
              "      <th>7</th>\n",
              "      <td>8.635849</td>\n",
              "      <td>203.361523</td>\n",
              "      <td>13672.091764</td>\n",
              "      <td>4.563009</td>\n",
              "      <td>303.309771</td>\n",
              "      <td>474.607645</td>\n",
              "      <td>12.363817</td>\n",
              "      <td>62.798309</td>\n",
              "      <td>4.401425</td>\n",
              "      <td>0</td>\n",
              "    </tr>\n",
              "  </tbody>\n",
              "</table>\n",
              "</div>\n",
              "      <button class=\"colab-df-convert\" onclick=\"convertToInteractive('df-39b4b742-86fd-4a1e-95b6-d3ba331c3b8f')\"\n",
              "              title=\"Convert this dataframe to an interactive table.\"\n",
              "              style=\"display:none;\">\n",
              "        \n",
              "  <svg xmlns=\"http://www.w3.org/2000/svg\" height=\"24px\"viewBox=\"0 0 24 24\"\n",
              "       width=\"24px\">\n",
              "    <path d=\"M0 0h24v24H0V0z\" fill=\"none\"/>\n",
              "    <path d=\"M18.56 5.44l.94 2.06.94-2.06 2.06-.94-2.06-.94-.94-2.06-.94 2.06-2.06.94zm-11 1L8.5 8.5l.94-2.06 2.06-.94-2.06-.94L8.5 2.5l-.94 2.06-2.06.94zm10 10l.94 2.06.94-2.06 2.06-.94-2.06-.94-.94-2.06-.94 2.06-2.06.94z\"/><path d=\"M17.41 7.96l-1.37-1.37c-.4-.4-.92-.59-1.43-.59-.52 0-1.04.2-1.43.59L10.3 9.45l-7.72 7.72c-.78.78-.78 2.05 0 2.83L4 21.41c.39.39.9.59 1.41.59.51 0 1.02-.2 1.41-.59l7.78-7.78 2.81-2.81c.8-.78.8-2.07 0-2.86zM5.41 20L4 18.59l7.72-7.72 1.47 1.35L5.41 20z\"/>\n",
              "  </svg>\n",
              "      </button>\n",
              "      \n",
              "  <style>\n",
              "    .colab-df-container {\n",
              "      display:flex;\n",
              "      flex-wrap:wrap;\n",
              "      gap: 12px;\n",
              "    }\n",
              "\n",
              "    .colab-df-convert {\n",
              "      background-color: #E8F0FE;\n",
              "      border: none;\n",
              "      border-radius: 50%;\n",
              "      cursor: pointer;\n",
              "      display: none;\n",
              "      fill: #1967D2;\n",
              "      height: 32px;\n",
              "      padding: 0 0 0 0;\n",
              "      width: 32px;\n",
              "    }\n",
              "\n",
              "    .colab-df-convert:hover {\n",
              "      background-color: #E2EBFA;\n",
              "      box-shadow: 0px 1px 2px rgba(60, 64, 67, 0.3), 0px 1px 3px 1px rgba(60, 64, 67, 0.15);\n",
              "      fill: #174EA6;\n",
              "    }\n",
              "\n",
              "    [theme=dark] .colab-df-convert {\n",
              "      background-color: #3B4455;\n",
              "      fill: #D2E3FC;\n",
              "    }\n",
              "\n",
              "    [theme=dark] .colab-df-convert:hover {\n",
              "      background-color: #434B5C;\n",
              "      box-shadow: 0px 1px 3px 1px rgba(0, 0, 0, 0.15);\n",
              "      filter: drop-shadow(0px 1px 2px rgba(0, 0, 0, 0.3));\n",
              "      fill: #FFFFFF;\n",
              "    }\n",
              "  </style>\n",
              "\n",
              "      <script>\n",
              "        const buttonEl =\n",
              "          document.querySelector('#df-39b4b742-86fd-4a1e-95b6-d3ba331c3b8f button.colab-df-convert');\n",
              "        buttonEl.style.display =\n",
              "          google.colab.kernel.accessAllowed ? 'block' : 'none';\n",
              "\n",
              "        async function convertToInteractive(key) {\n",
              "          const element = document.querySelector('#df-39b4b742-86fd-4a1e-95b6-d3ba331c3b8f');\n",
              "          const dataTable =\n",
              "            await google.colab.kernel.invokeFunction('convertToInteractive',\n",
              "                                                     [key], {});\n",
              "          if (!dataTable) return;\n",
              "\n",
              "          const docLinkHtml = 'Like what you see? Visit the ' +\n",
              "            '<a target=\"_blank\" href=https://colab.research.google.com/notebooks/data_table.ipynb>data table notebook</a>'\n",
              "            + ' to learn more about interactive tables.';\n",
              "          element.innerHTML = '';\n",
              "          dataTable['output_type'] = 'display_data';\n",
              "          await google.colab.output.renderOutput(dataTable, element);\n",
              "          const docLink = document.createElement('div');\n",
              "          docLink.innerHTML = docLinkHtml;\n",
              "          element.appendChild(docLink);\n",
              "        }\n",
              "      </script>\n",
              "    </div>\n",
              "  </div>\n",
              "  "
            ]
          },
          "metadata": {},
          "execution_count": 9
        }
      ],
      "source": [
        "# see database.\n",
        "waterdata.head(5)"
      ]
    },
    {
      "cell_type": "markdown",
      "source": [
        "here we see their types"
      ],
      "metadata": {
        "id": "hL68yCtQ4-zT"
      }
    },
    {
      "cell_type": "code",
      "execution_count": null,
      "metadata": {
        "colab": {
          "base_uri": "https://localhost:8080/"
        },
        "id": "MAfNwaNzSxzk",
        "outputId": "1230b352-e922-4304-ce4f-49c992d548e4"
      },
      "outputs": [
        {
          "output_type": "execute_result",
          "data": {
            "text/plain": [
              "ph                 float64\n",
              "Hardness           float64\n",
              "Solids             float64\n",
              "Chloramines        float64\n",
              "Sulfate            float64\n",
              "Conductivity       float64\n",
              "Organic_carbon     float64\n",
              "Trihalomethanes    float64\n",
              "Turbidity          float64\n",
              "Potability           int64\n",
              "dtype: object"
            ]
          },
          "metadata": {},
          "execution_count": 10
        }
      ],
      "source": [
        "# see types.\n",
        "waterdata.dtypes"
      ]
    },
    {
      "cell_type": "code",
      "execution_count": null,
      "metadata": {
        "id": "-kyfl1fc5Sey"
      },
      "outputs": [],
      "source": [
        "# change type, make sure the type of the values.\n",
        "waterdata['Potability'] = waterdata['Potability'].astype('int')"
      ]
    },
    {
      "cell_type": "code",
      "execution_count": null,
      "metadata": {
        "colab": {
          "base_uri": "https://localhost:8080/"
        },
        "id": "kT7YW-DC5T17",
        "outputId": "b4e96663-3bfb-4be9-d713-46ecd71d84b2"
      },
      "outputs": [
        {
          "output_type": "execute_result",
          "data": {
            "text/plain": [
              "ph                 float64\n",
              "Hardness           float64\n",
              "Solids             float64\n",
              "Chloramines        float64\n",
              "Sulfate            float64\n",
              "Conductivity       float64\n",
              "Organic_carbon     float64\n",
              "Trihalomethanes    float64\n",
              "Turbidity          float64\n",
              "Potability           int64\n",
              "dtype: object"
            ]
          },
          "metadata": {},
          "execution_count": 12
        }
      ],
      "source": [
        "waterdata.dtypes"
      ]
    },
    {
      "cell_type": "code",
      "execution_count": null,
      "metadata": {
        "id": "xnsebKyT5Xdg"
      },
      "outputs": [],
      "source": [
        "# split x and y.\n",
        "X = waterdata[['ph', 'Hardness']]\n",
        "y = waterdata['Potability']"
      ]
    },
    {
      "cell_type": "code",
      "execution_count": null,
      "metadata": {
        "colab": {
          "base_uri": "https://localhost:8080/",
          "height": 206
        },
        "id": "hM_bm_ew5m5s",
        "outputId": "6b347341-b11f-4832-e7a6-ed86d2f89bb7"
      },
      "outputs": [
        {
          "output_type": "execute_result",
          "data": {
            "text/plain": [
              "          ph    Hardness\n",
              "3   8.316766  214.373394\n",
              "4   9.092223  181.101509\n",
              "5   5.584087  188.313324\n",
              "6  10.223862  248.071735\n",
              "7   8.635849  203.361523"
            ],
            "text/html": [
              "\n",
              "  <div id=\"df-94f7020c-9ad7-48cd-ba08-458cd66edcf3\">\n",
              "    <div class=\"colab-df-container\">\n",
              "      <div>\n",
              "<style scoped>\n",
              "    .dataframe tbody tr th:only-of-type {\n",
              "        vertical-align: middle;\n",
              "    }\n",
              "\n",
              "    .dataframe tbody tr th {\n",
              "        vertical-align: top;\n",
              "    }\n",
              "\n",
              "    .dataframe thead th {\n",
              "        text-align: right;\n",
              "    }\n",
              "</style>\n",
              "<table border=\"1\" class=\"dataframe\">\n",
              "  <thead>\n",
              "    <tr style=\"text-align: right;\">\n",
              "      <th></th>\n",
              "      <th>ph</th>\n",
              "      <th>Hardness</th>\n",
              "    </tr>\n",
              "  </thead>\n",
              "  <tbody>\n",
              "    <tr>\n",
              "      <th>3</th>\n",
              "      <td>8.316766</td>\n",
              "      <td>214.373394</td>\n",
              "    </tr>\n",
              "    <tr>\n",
              "      <th>4</th>\n",
              "      <td>9.092223</td>\n",
              "      <td>181.101509</td>\n",
              "    </tr>\n",
              "    <tr>\n",
              "      <th>5</th>\n",
              "      <td>5.584087</td>\n",
              "      <td>188.313324</td>\n",
              "    </tr>\n",
              "    <tr>\n",
              "      <th>6</th>\n",
              "      <td>10.223862</td>\n",
              "      <td>248.071735</td>\n",
              "    </tr>\n",
              "    <tr>\n",
              "      <th>7</th>\n",
              "      <td>8.635849</td>\n",
              "      <td>203.361523</td>\n",
              "    </tr>\n",
              "  </tbody>\n",
              "</table>\n",
              "</div>\n",
              "      <button class=\"colab-df-convert\" onclick=\"convertToInteractive('df-94f7020c-9ad7-48cd-ba08-458cd66edcf3')\"\n",
              "              title=\"Convert this dataframe to an interactive table.\"\n",
              "              style=\"display:none;\">\n",
              "        \n",
              "  <svg xmlns=\"http://www.w3.org/2000/svg\" height=\"24px\"viewBox=\"0 0 24 24\"\n",
              "       width=\"24px\">\n",
              "    <path d=\"M0 0h24v24H0V0z\" fill=\"none\"/>\n",
              "    <path d=\"M18.56 5.44l.94 2.06.94-2.06 2.06-.94-2.06-.94-.94-2.06-.94 2.06-2.06.94zm-11 1L8.5 8.5l.94-2.06 2.06-.94-2.06-.94L8.5 2.5l-.94 2.06-2.06.94zm10 10l.94 2.06.94-2.06 2.06-.94-2.06-.94-.94-2.06-.94 2.06-2.06.94z\"/><path d=\"M17.41 7.96l-1.37-1.37c-.4-.4-.92-.59-1.43-.59-.52 0-1.04.2-1.43.59L10.3 9.45l-7.72 7.72c-.78.78-.78 2.05 0 2.83L4 21.41c.39.39.9.59 1.41.59.51 0 1.02-.2 1.41-.59l7.78-7.78 2.81-2.81c.8-.78.8-2.07 0-2.86zM5.41 20L4 18.59l7.72-7.72 1.47 1.35L5.41 20z\"/>\n",
              "  </svg>\n",
              "      </button>\n",
              "      \n",
              "  <style>\n",
              "    .colab-df-container {\n",
              "      display:flex;\n",
              "      flex-wrap:wrap;\n",
              "      gap: 12px;\n",
              "    }\n",
              "\n",
              "    .colab-df-convert {\n",
              "      background-color: #E8F0FE;\n",
              "      border: none;\n",
              "      border-radius: 50%;\n",
              "      cursor: pointer;\n",
              "      display: none;\n",
              "      fill: #1967D2;\n",
              "      height: 32px;\n",
              "      padding: 0 0 0 0;\n",
              "      width: 32px;\n",
              "    }\n",
              "\n",
              "    .colab-df-convert:hover {\n",
              "      background-color: #E2EBFA;\n",
              "      box-shadow: 0px 1px 2px rgba(60, 64, 67, 0.3), 0px 1px 3px 1px rgba(60, 64, 67, 0.15);\n",
              "      fill: #174EA6;\n",
              "    }\n",
              "\n",
              "    [theme=dark] .colab-df-convert {\n",
              "      background-color: #3B4455;\n",
              "      fill: #D2E3FC;\n",
              "    }\n",
              "\n",
              "    [theme=dark] .colab-df-convert:hover {\n",
              "      background-color: #434B5C;\n",
              "      box-shadow: 0px 1px 3px 1px rgba(0, 0, 0, 0.15);\n",
              "      filter: drop-shadow(0px 1px 2px rgba(0, 0, 0, 0.3));\n",
              "      fill: #FFFFFF;\n",
              "    }\n",
              "  </style>\n",
              "\n",
              "      <script>\n",
              "        const buttonEl =\n",
              "          document.querySelector('#df-94f7020c-9ad7-48cd-ba08-458cd66edcf3 button.colab-df-convert');\n",
              "        buttonEl.style.display =\n",
              "          google.colab.kernel.accessAllowed ? 'block' : 'none';\n",
              "\n",
              "        async function convertToInteractive(key) {\n",
              "          const element = document.querySelector('#df-94f7020c-9ad7-48cd-ba08-458cd66edcf3');\n",
              "          const dataTable =\n",
              "            await google.colab.kernel.invokeFunction('convertToInteractive',\n",
              "                                                     [key], {});\n",
              "          if (!dataTable) return;\n",
              "\n",
              "          const docLinkHtml = 'Like what you see? Visit the ' +\n",
              "            '<a target=\"_blank\" href=https://colab.research.google.com/notebooks/data_table.ipynb>data table notebook</a>'\n",
              "            + ' to learn more about interactive tables.';\n",
              "          element.innerHTML = '';\n",
              "          dataTable['output_type'] = 'display_data';\n",
              "          await google.colab.output.renderOutput(dataTable, element);\n",
              "          const docLink = document.createElement('div');\n",
              "          docLink.innerHTML = docLinkHtml;\n",
              "          element.appendChild(docLink);\n",
              "        }\n",
              "      </script>\n",
              "    </div>\n",
              "  </div>\n",
              "  "
            ]
          },
          "metadata": {},
          "execution_count": 14
        }
      ],
      "source": [
        "X.head()"
      ]
    },
    {
      "cell_type": "code",
      "execution_count": null,
      "metadata": {
        "colab": {
          "base_uri": "https://localhost:8080/"
        },
        "id": "b-35I_-l5pVX",
        "outputId": "4e615464-a2b8-4298-b71f-93a23d8476db"
      },
      "outputs": [
        {
          "output_type": "execute_result",
          "data": {
            "text/plain": [
              "3    0\n",
              "4    0\n",
              "5    0\n",
              "6    0\n",
              "7    0\n",
              "Name: Potability, dtype: int64"
            ]
          },
          "metadata": {},
          "execution_count": 15
        }
      ],
      "source": [
        "# see y value.\n",
        "y.head()"
      ]
    },
    {
      "cell_type": "code",
      "execution_count": null,
      "metadata": {
        "id": "GAbqbkRJ5qSs"
      },
      "outputs": [],
      "source": [
        "from sklearn.model_selection import train_test_split\n",
        "\n",
        "X_train, X_test, y_train, y_test = train_test_split(X, y, test_size=0.2, random_state=1)"
      ]
    },
    {
      "cell_type": "markdown",
      "source": [
        "Here, we classify and judge the decision tree, output with 0 and 1"
      ],
      "metadata": {
        "id": "H5ID3i4R5ltg"
      }
    },
    {
      "cell_type": "code",
      "execution_count": null,
      "metadata": {
        "colab": {
          "base_uri": "https://localhost:8080/"
        },
        "id": "8LHrO64B5xO2",
        "outputId": "125fd0a7-95bd-4a6f-e5fc-bd21552ef1aa"
      },
      "outputs": [
        {
          "output_type": "stream",
          "name": "stdout",
          "text": [
            "[0 0 0 0 0 0 0 0 1 0 0 0 0 0 0 0 1 0 0 0 0 0 0 0 0 0 0 0 0 0 0 0 0 0 0 0 0\n",
            " 0 0 0 0 0 0 0 0 0 0 0 0 0 0 0 0 0 0 0 0 0 0 0 0 0 0 0 0 0 0 0 0 0 0 0 0 0\n",
            " 0 0 0 0 0 0 0 0 0 0 0 0 0 0 0 0 0 0 0 0 0 0 0 0 0 0 0 0 0 0 0 0 0 0 0 0 0\n",
            " 0 0 0 0 0 0 0 0 0 0 0 0 0 0 0 0 0 0 0 1 0 0 0 0 0 0 0 0 0 0 0 0 0 0 0 0 1\n",
            " 0 0 0 0 0 0 0 0 0 0 0 0 0 0 1 0 0 0 0 0 0 0 0 0 0 0 0 0 0 0 0 0 0 0 0 0 1\n",
            " 0 0 0 0 0 1 1 0 0 0 0 0 0 0 0 0 0 0 0 0 0 0 0 1 0 0 0 0 0 0 0 0 0 0 0 0 0\n",
            " 0 0 0 0 0 0 0 0 0 0 0 0 0 0 0 0 0 0 0 0 0 0 0 0 0 0 0 0 0 0 0 0 0 0 0 0 0\n",
            " 1 0 0 0 0 0 0 0 0 0 0 0 0 0 0 0 0 0 0 0 0 0 0 0 0 0 1 0 0 0 0 0 0 0 0 0 0\n",
            " 0 0 0 0 0 0 0 0 0 1 1 0 0 0 0 0 0 0 0 0 0 0 0 0 0 0 0 0 0 0 0 0 0 0 0 0 0\n",
            " 0 0 0 1 0 0 0 0 0 0 0 0 1 0 0 0 0 0 0 0 0 0 0 0 0 0 0 0 0 0 0 0 0 0 0 0 0\n",
            " 0 0 0 0 0 0 0 0 0 0 0 0 0 0 0 0 0 0 0 0 0 0 0 0 0 0 0 0 0 0 0 0 0]\n"
          ]
        }
      ],
      "source": [
        "# to do decision tree.\n",
        "from sklearn.tree import DecisionTreeClassifier\n",
        "\n",
        "# Initiate a DecisionTreeClassifier 'dt' with a maximum depth of 6\n",
        "dt = DecisionTreeClassifier(max_depth=6, random_state=1)\n",
        "\n",
        "# Fit dt to the training set\n",
        "dt.fit(X_train, y_train)\n",
        "\n",
        "# Predict test set labels\n",
        "y_pred = dt.predict(X_test)\n",
        "print(y_pred)"
      ]
    },
    {
      "cell_type": "markdown",
      "source": [
        "We test the accuracy of the test"
      ],
      "metadata": {
        "id": "0ocF-7jA6Rof"
      }
    },
    {
      "cell_type": "code",
      "execution_count": null,
      "metadata": {
        "colab": {
          "base_uri": "https://localhost:8080/"
        },
        "id": "Flf4GOuw51KM",
        "outputId": "15d9969e-c27e-4bd2-d8fa-64acf5b00ccb"
      },
      "outputs": [
        {
          "output_type": "stream",
          "name": "stdout",
          "text": [
            "Test set accuracy: 0.63\n"
          ]
        }
      ],
      "source": [
        "# evaluate the classification tree.\n",
        "from sklearn.metrics import accuracy_score\n",
        "\n",
        "# Predict test set labels\n",
        "y_pred = dt.predict(X_test)\n",
        "\n",
        "# Compute test set accuracy\n",
        "acc = accuracy_score(y_test, y_pred)\n",
        "print(\"Test set accuracy: {:.2f}\".format(acc))"
      ]
    },
    {
      "cell_type": "markdown",
      "source": [
        "We plot the scatter plot of the selected data"
      ],
      "metadata": {
        "id": "hLTZ6u-_6fo0"
      }
    },
    {
      "cell_type": "code",
      "execution_count": null,
      "metadata": {
        "id": "7_FS-zDF6CeJ"
      },
      "outputs": [],
      "source": [
        "from mlxtend.plotting import plot_decision_regions\n",
        "\n",
        "def plot_labeled_decision_regions(X,y, models):\n",
        "    '''Function producing a scatter plot of the instances contained \n",
        "    in the 2D dataset (X,y) along with the decision \n",
        "    regions of two trained classification models contained in the\n",
        "    list 'models'.\n",
        "    \n",
        "    Parameters\n",
        "    ----------\n",
        "    X: pandas DataFrame corresponding to two numerical features \n",
        "    y: pandas Series corresponding the class labels\n",
        "    models: list containing two trained classifiers \n",
        "    \n",
        "    '''\n",
        "    if len(models) != 2:\n",
        "        raise Exception('''Models should be a list containing only two trained classifiers.''')\n",
        "    if not isinstance(X, pd.DataFrame):\n",
        "        raise Exception('''X has to be a pandas DataFrame with two numerical features.''')\n",
        "    if not isinstance(y, pd.Series):\n",
        "        raise Exception('''y has to be a pandas Series corresponding to the labels.''')\n",
        "    fig, ax = plt.subplots(1, 2, figsize=(10.0, 5), sharey=True)\n",
        "    for i, model in enumerate(models):\n",
        "        plot_decision_regions(X.values, y.values, model, legend= 2, ax = ax[i])\n",
        "        ax[i].set_title(model.__class__.__name__)\n",
        "        ax[i].set_xlabel(X.columns[0])\n",
        "        if i == 0:\n",
        "            ax[i].set_ylabel(X.columns[1])\n",
        "            ax[i].set_ylim(X.values[:,1].min(), X.values[:,1].max())\n",
        "            ax[i].set_xlim(X.values[:,0].min(), X.values[:,0].max())\n",
        "    plt.tight_layout()"
      ]
    },
    {
      "cell_type": "code",
      "execution_count": null,
      "metadata": {
        "colab": {
          "base_uri": "https://localhost:8080/",
          "height": 570
        },
        "id": "TF_3o24V7WHI",
        "outputId": "181510b0-ee23-4ca0-ef99-11c29a540f74"
      },
      "outputs": [
        {
          "output_type": "stream",
          "name": "stderr",
          "text": [
            "/usr/local/lib/python3.7/dist-packages/sklearn/base.py:451: UserWarning: X does not have valid feature names, but LogisticRegression was fitted with feature names\n",
            "  \"X does not have valid feature names, but\"\n",
            "/usr/local/lib/python3.7/dist-packages/mlxtend/plotting/decision_regions.py:242: UserWarning: No contour levels were found within the data range.\n",
            "  antialiased=True)\n",
            "/usr/local/lib/python3.7/dist-packages/mlxtend/plotting/decision_regions.py:244: MatplotlibDeprecationWarning: Passing unsupported keyword arguments to axis() will raise a TypeError in 3.3.\n",
            "  ax.axis(xmin=xx.min(), xmax=xx.max(), y_min=yy.min(), y_max=yy.max())\n",
            "/usr/local/lib/python3.7/dist-packages/sklearn/base.py:451: UserWarning: X does not have valid feature names, but DecisionTreeClassifier was fitted with feature names\n",
            "  \"X does not have valid feature names, but\"\n",
            "/usr/local/lib/python3.7/dist-packages/mlxtend/plotting/decision_regions.py:244: MatplotlibDeprecationWarning: Passing unsupported keyword arguments to axis() will raise a TypeError in 3.3.\n",
            "  ax.axis(xmin=xx.min(), xmax=xx.max(), y_min=yy.min(), y_max=yy.max())\n"
          ]
        },
        {
          "output_type": "display_data",
          "data": {
            "text/plain": [
              "<Figure size 720x360 with 2 Axes>"
            ],
            "image/png": "[encoded data removed]"
          },
          "metadata": {}
        }
      ],
      "source": [
        "from sklearn.linear_model import LogisticRegression\n",
        "\n",
        "# Instantiate logreg\n",
        "logreg = LogisticRegression(random_state=1)\n",
        "\n",
        "# Fit logreg to the training set\n",
        "logreg.fit(X_train, y_train)\n",
        "\n",
        "# Define a list called clfs containing the two classifiers logreg and dt\n",
        "clfs = [logreg, dt]\n",
        "\n",
        "# Review the decision regions of the two classifier\n",
        "plot_labeled_decision_regions(X_test, y_test, clfs)"
      ]
    },
    {
      "cell_type": "markdown",
      "source": [
        "Through graphical description, we found the difference between the two methods"
      ],
      "metadata": {
        "id": "jxzLYF206qWZ"
      }
    },
    {
      "cell_type": "code",
      "execution_count": null,
      "metadata": {
        "colab": {
          "base_uri": "https://localhost:8080/"
        },
        "id": "rayOCQyc6D4W",
        "outputId": "4827f74a-41e7-41b3-a3f9-5b9d6f368691"
      },
      "outputs": [
        {
          "output_type": "execute_result",
          "data": {
            "text/plain": [
              "DecisionTreeClassifier(criterion='entropy', max_depth=8, random_state=1)"
            ]
          },
          "metadata": {},
          "execution_count": 21
        }
      ],
      "source": [
        "from sklearn.tree import DecisionTreeClassifier\n",
        "\n",
        "# Instantiate dt_entropy, set 'entropy' as the information criterion\n",
        "dt_entropy = DecisionTreeClassifier(max_depth=8, criterion='entropy', random_state=1)\n",
        "\n",
        "# Fit dt_entropy to the training set\n",
        "dt_entropy.fit(X_train, y_train)"
      ]
    },
    {
      "cell_type": "code",
      "execution_count": null,
      "metadata": {
        "colab": {
          "base_uri": "https://localhost:8080/"
        },
        "id": "AAgnFSkm7YB2",
        "outputId": "554789ed-9134-4f7b-8932-377845c44718"
      },
      "outputs": [
        {
          "output_type": "stream",
          "name": "stdout",
          "text": [
            "Accuracy achieved by using entropy:  0.607940446650124\n"
          ]
        }
      ],
      "source": [
        "from sklearn.metrics import accuracy_score\n",
        "\n",
        "# Use dt_entropy to predict test set labels\n",
        "y_pred = dt_entropy.predict(X_test)\n",
        "\n",
        "# Evaluate accuracy_entropy\n",
        "accuracy_entropy = accuracy_score(y_test, y_pred)\n",
        "\n",
        "# Print accuracy_entropy\n",
        "print(\"Accuracy achieved by using entropy: \", accuracy_entropy)"
      ]
    },
    {
      "cell_type": "markdown",
      "metadata": {
        "id": "gTRBn06t7gmx"
      },
      "source": [
        "Linear regression in decision tree."
      ]
    },
    {
      "cell_type": "code",
      "execution_count": null,
      "metadata": {
        "id": "ga4-gPjv7hB-"
      },
      "outputs": [],
      "source": [
        "waterdata = pd.get_dummies(waterdata)"
      ]
    },
    {
      "cell_type": "code",
      "execution_count": null,
      "metadata": {
        "colab": {
          "base_uri": "https://localhost:8080/",
          "height": 270
        },
        "id": "RvC1EMI77mnz",
        "outputId": "3263b11a-7508-4635-aa6b-cfc2603af039"
      },
      "outputs": [
        {
          "output_type": "execute_result",
          "data": {
            "text/plain": [
              "          ph    Hardness        Solids  Chloramines     Sulfate  Conductivity  \\\n",
              "3   8.316766  214.373394  22018.417441     8.059332  356.886136    363.266516   \n",
              "4   9.092223  181.101509  17978.986339     6.546600  310.135738    398.410813   \n",
              "5   5.584087  188.313324  28748.687739     7.544869  326.678363    280.467916   \n",
              "6  10.223862  248.071735  28749.716544     7.513408  393.663396    283.651634   \n",
              "7   8.635849  203.361523  13672.091764     4.563009  303.309771    474.607645   \n",
              "\n",
              "   Organic_carbon  Trihalomethanes  Turbidity  Potability  \n",
              "3       18.436524       100.341674   4.628771           0  \n",
              "4       11.558279        31.997993   4.075075           0  \n",
              "5        8.399735        54.917862   2.559708           0  \n",
              "6       13.789695        84.603556   2.672989           0  \n",
              "7       12.363817        62.798309   4.401425           0  "
            ],
            "text/html": [
              "\n",
              "  <div id=\"df-df5d4e21-2c81-495a-ae5d-5a9ead931641\">\n",
              "    <div class=\"colab-df-container\">\n",
              "      <div>\n",
              "<style scoped>\n",
              "    .dataframe tbody tr th:only-of-type {\n",
              "        vertical-align: middle;\n",
              "    }\n",
              "\n",
              "    .dataframe tbody tr th {\n",
              "        vertical-align: top;\n",
              "    }\n",
              "\n",
              "    .dataframe thead th {\n",
              "        text-align: right;\n",
              "    }\n",
              "</style>\n",
              "<table border=\"1\" class=\"dataframe\">\n",
              "  <thead>\n",
              "    <tr style=\"text-align: right;\">\n",
              "      <th></th>\n",
              "      <th>ph</th>\n",
              "      <th>Hardness</th>\n",
              "      <th>Solids</th>\n",
              "      <th>Chloramines</th>\n",
              "      <th>Sulfate</th>\n",
              "      <th>Conductivity</th>\n",
              "      <th>Organic_carbon</th>\n",
              "      <th>Trihalomethanes</th>\n",
              "      <th>Turbidity</th>\n",
              "      <th>Potability</th>\n",
              "    </tr>\n",
              "  </thead>\n",
              "  <tbody>\n",
              "    <tr>\n",
              "      <th>3</th>\n",
              "      <td>8.316766</td>\n",
              "      <td>214.373394</td>\n",
              "      <td>22018.417441</td>\n",
              "      <td>8.059332</td>\n",
              "      <td>356.886136</td>\n",
              "      <td>363.266516</td>\n",
              "      <td>18.436524</td>\n",
              "      <td>100.341674</td>\n",
              "      <td>4.628771</td>\n",
              "      <td>0</td>\n",
              "    </tr>\n",
              "    <tr>\n",
              "      <th>4</th>\n",
              "      <td>9.092223</td>\n",
              "      <td>181.101509</td>\n",
              "      <td>17978.986339</td>\n",
              "      <td>6.546600</td>\n",
              "      <td>310.135738</td>\n",
              "      <td>398.410813</td>\n",
              "      <td>11.558279</td>\n",
              "      <td>31.997993</td>\n",
              "      <td>4.075075</td>\n",
              "      <td>0</td>\n",
              "    </tr>\n",
              "    <tr>\n",
              "      <th>5</th>\n",
              "      <td>5.584087</td>\n",
              "      <td>188.313324</td>\n",
              "      <td>28748.687739</td>\n",
              "      <td>7.544869</td>\n",
              "      <td>326.678363</td>\n",
              "      <td>280.467916</td>\n",
              "      <td>8.399735</td>\n",
              "      <td>54.917862</td>\n",
              "      <td>2.559708</td>\n",
              "      <td>0</td>\n",
              "    </tr>\n",
              "    <tr>\n",
              "      <th>6</th>\n",
              "      <td>10.223862</td>\n",
              "      <td>248.071735</td>\n",
              "      <td>28749.716544</td>\n",
              "      <td>7.513408</td>\n",
              "      <td>393.663396</td>\n",
              "      <td>283.651634</td>\n",
              "      <td>13.789695</td>\n",
              "      <td>84.603556</td>\n",
              "      <td>2.672989</td>\n",
              "      <td>0</td>\n",
              "    </tr>\n",
              "    <tr>\n",
              "      <th>7</th>\n",
              "      <td>8.635849</td>\n",
              "      <td>203.361523</td>\n",
              "      <td>13672.091764</td>\n",
              "      <td>4.563009</td>\n",
              "      <td>303.309771</td>\n",
              "      <td>474.607645</td>\n",
              "      <td>12.363817</td>\n",
              "      <td>62.798309</td>\n",
              "      <td>4.401425</td>\n",
              "      <td>0</td>\n",
              "    </tr>\n",
              "  </tbody>\n",
              "</table>\n",
              "</div>\n",
              "      <button class=\"colab-df-convert\" onclick=\"convertToInteractive('df-df5d4e21-2c81-495a-ae5d-5a9ead931641')\"\n",
              "              title=\"Convert this dataframe to an interactive table.\"\n",
              "              style=\"display:none;\">\n",
              "        \n",
              "  <svg xmlns=\"http://www.w3.org/2000/svg\" height=\"24px\"viewBox=\"0 0 24 24\"\n",
              "       width=\"24px\">\n",
              "    <path d=\"M0 0h24v24H0V0z\" fill=\"none\"/>\n",
              "    <path d=\"M18.56 5.44l.94 2.06.94-2.06 2.06-.94-2.06-.94-.94-2.06-.94 2.06-2.06.94zm-11 1L8.5 8.5l.94-2.06 2.06-.94-2.06-.94L8.5 2.5l-.94 2.06-2.06.94zm10 10l.94 2.06.94-2.06 2.06-.94-2.06-.94-.94-2.06-.94 2.06-2.06.94z\"/><path d=\"M17.41 7.96l-1.37-1.37c-.4-.4-.92-.59-1.43-.59-.52 0-1.04.2-1.43.59L10.3 9.45l-7.72 7.72c-.78.78-.78 2.05 0 2.83L4 21.41c.39.39.9.59 1.41.59.51 0 1.02-.2 1.41-.59l7.78-7.78 2.81-2.81c.8-.78.8-2.07 0-2.86zM5.41 20L4 18.59l7.72-7.72 1.47 1.35L5.41 20z\"/>\n",
              "  </svg>\n",
              "      </button>\n",
              "      \n",
              "  <style>\n",
              "    .colab-df-container {\n",
              "      display:flex;\n",
              "      flex-wrap:wrap;\n",
              "      gap: 12px;\n",
              "    }\n",
              "\n",
              "    .colab-df-convert {\n",
              "      background-color: #E8F0FE;\n",
              "      border: none;\n",
              "      border-radius: 50%;\n",
              "      cursor: pointer;\n",
              "      display: none;\n",
              "      fill: #1967D2;\n",
              "      height: 32px;\n",
              "      padding: 0 0 0 0;\n",
              "      width: 32px;\n",
              "    }\n",
              "\n",
              "    .colab-df-convert:hover {\n",
              "      background-color: #E2EBFA;\n",
              "      box-shadow: 0px 1px 2px rgba(60, 64, 67, 0.3), 0px 1px 3px 1px rgba(60, 64, 67, 0.15);\n",
              "      fill: #174EA6;\n",
              "    }\n",
              "\n",
              "    [theme=dark] .colab-df-convert {\n",
              "      background-color: #3B4455;\n",
              "      fill: #D2E3FC;\n",
              "    }\n",
              "\n",
              "    [theme=dark] .colab-df-convert:hover {\n",
              "      background-color: #434B5C;\n",
              "      box-shadow: 0px 1px 3px 1px rgba(0, 0, 0, 0.15);\n",
              "      filter: drop-shadow(0px 1px 2px rgba(0, 0, 0, 0.3));\n",
              "      fill: #FFFFFF;\n",
              "    }\n",
              "  </style>\n",
              "\n",
              "      <script>\n",
              "        const buttonEl =\n",
              "          document.querySelector('#df-df5d4e21-2c81-495a-ae5d-5a9ead931641 button.colab-df-convert');\n",
              "        buttonEl.style.display =\n",
              "          google.colab.kernel.accessAllowed ? 'block' : 'none';\n",
              "\n",
              "        async function convertToInteractive(key) {\n",
              "          const element = document.querySelector('#df-df5d4e21-2c81-495a-ae5d-5a9ead931641');\n",
              "          const dataTable =\n",
              "            await google.colab.kernel.invokeFunction('convertToInteractive',\n",
              "                                                     [key], {});\n",
              "          if (!dataTable) return;\n",
              "\n",
              "          const docLinkHtml = 'Like what you see? Visit the ' +\n",
              "            '<a target=\"_blank\" href=https://colab.research.google.com/notebooks/data_table.ipynb>data table notebook</a>'\n",
              "            + ' to learn more about interactive tables.';\n",
              "          element.innerHTML = '';\n",
              "          dataTable['output_type'] = 'display_data';\n",
              "          await google.colab.output.renderOutput(dataTable, element);\n",
              "          const docLink = document.createElement('div');\n",
              "          docLink.innerHTML = docLinkHtml;\n",
              "          element.appendChild(docLink);\n",
              "        }\n",
              "      </script>\n",
              "    </div>\n",
              "  </div>\n",
              "  "
            ]
          },
          "metadata": {},
          "execution_count": 24
        }
      ],
      "source": [
        "waterdata.head(5)"
      ]
    },
    {
      "cell_type": "code",
      "execution_count": null,
      "metadata": {
        "colab": {
          "base_uri": "https://localhost:8080/"
        },
        "id": "4gHa0gKc1tbx",
        "outputId": "e5532d65-6606-4d9d-de94-e64e800d78ee"
      },
      "outputs": [
        {
          "output_type": "execute_result",
          "data": {
            "text/plain": [
              "(2011, 10)"
            ]
          },
          "metadata": {},
          "execution_count": 56
        }
      ],
      "source": [
        "waterdata.shape"
      ]
    },
    {
      "cell_type": "code",
      "execution_count": null,
      "metadata": {
        "id": "ePaT7OoJ6zrZ"
      },
      "outputs": [],
      "source": [
        "# split x and y.\n",
        "X = waterdata[['ph', 'Hardness']]\n",
        "y = waterdata['Potability']"
      ]
    },
    {
      "cell_type": "code",
      "execution_count": null,
      "metadata": {
        "id": "bgEKTeUB7rSl"
      },
      "outputs": [],
      "source": [
        "X = waterdata.drop('ph', axis='columns')\n",
        "y = waterdata['ph']"
      ]
    },
    {
      "cell_type": "code",
      "execution_count": null,
      "metadata": {
        "id": "8WRnHJOI7uwl"
      },
      "outputs": [],
      "source": [
        "X_train, X_test, y_train, y_test = train_test_split(X, y, test_size=0.2, random_state=3)"
      ]
    },
    {
      "cell_type": "code",
      "execution_count": null,
      "metadata": {
        "colab": {
          "base_uri": "https://localhost:8080/"
        },
        "id": "KloWOZpX7xP0",
        "outputId": "14d7a908-8b26-420f-bf10-2268162d945c"
      },
      "outputs": [
        {
          "output_type": "execute_result",
          "data": {
            "text/plain": [
              "DecisionTreeRegressor(max_depth=8, min_samples_leaf=0.13, random_state=3)"
            ]
          },
          "metadata": {},
          "execution_count": 29
        }
      ],
      "source": [
        "from sklearn.tree import DecisionTreeRegressor\n",
        "\n",
        "# Instantiate dt\n",
        "dt = DecisionTreeRegressor(max_depth=8, min_samples_leaf=0.13, random_state=3)\n",
        "\n",
        "# Fit dt to the training set\n",
        "dt.fit(X_train, y_train)"
      ]
    },
    {
      "cell_type": "code",
      "execution_count": null,
      "metadata": {
        "colab": {
          "base_uri": "https://localhost:8080/"
        },
        "id": "XhOZaUAM70JN",
        "outputId": "d23ae6fe-305f-4a6a-ad37-7edf4eed2eed"
      },
      "outputs": [
        {
          "output_type": "stream",
          "name": "stdout",
          "text": [
            "Test set RMSE of dt: 1.69\n"
          ]
        }
      ],
      "source": [
        "from sklearn.metrics import mean_squared_error\n",
        "\n",
        "# Compute y_pred\n",
        "y_pred = dt.predict(X_test)\n",
        "\n",
        "# Compute mse_dt\n",
        "mse_dt = mean_squared_error(y_test, y_pred)\n",
        "\n",
        "# Compute rmse_dt\n",
        "rmse_dt = mse_dt ** (1/2)\n",
        "\n",
        "# Print rmse_dt\n",
        "print(\"Test set RMSE of dt: {:.2f}\".format(rmse_dt))"
      ]
    },
    {
      "cell_type": "code",
      "execution_count": null,
      "metadata": {
        "colab": {
          "base_uri": "https://localhost:8080/"
        },
        "id": "Go-c5iAb72sI",
        "outputId": "5c7f1ddd-3e51-469f-9a0f-ca7e403bb458"
      },
      "outputs": [
        {
          "output_type": "execute_result",
          "data": {
            "text/plain": [
              "LinearRegression()"
            ]
          },
          "metadata": {},
          "execution_count": 31
        }
      ],
      "source": [
        "from sklearn.linear_model import LinearRegression\n",
        "\n",
        "lr = LinearRegression()\n",
        "\n",
        "lr.fit(X_train, y_train)"
      ]
    },
    {
      "cell_type": "code",
      "execution_count": null,
      "metadata": {
        "colab": {
          "base_uri": "https://localhost:8080/"
        },
        "id": "qcQjjFv075MM",
        "outputId": "37aee93c-6184-4d76-d2b8-994a289f18d6"
      },
      "outputs": [
        {
          "output_type": "stream",
          "name": "stdout",
          "text": [
            "Linear Regression test set RMSE: 1.67\n",
            "Regression Tree test set RMSE: 1.69\n"
          ]
        }
      ],
      "source": [
        "# Predict test set labels\n",
        "y_pred_lr = lr.predict(X_test)\n",
        "\n",
        "# Compute mse_lr\n",
        "mse_lr = mean_squared_error(y_test, y_pred_lr)\n",
        "\n",
        "# Compute rmse_lr\n",
        "rmse_lr = mse_lr ** 0.5\n",
        "\n",
        "# Print rmse_lr\n",
        "print(\"Linear Regression test set RMSE: {:.2f}\".format(rmse_lr))\n",
        "\n",
        "# Print rmse_dt\n",
        "print(\"Regression Tree test set RMSE: {:.2f}\".format(rmse_dt))"
      ]
    },
    {
      "cell_type": "markdown",
      "metadata": {
        "id": "3OZxySFs0sNN"
      },
      "source": [
        "Random Forests"
      ]
    },
    {
      "cell_type": "code",
      "execution_count": null,
      "metadata": {
        "id": "Jqk7qnhH0wWR"
      },
      "outputs": [],
      "source": [
        "# import libraries.\n",
        "%matplotlib inline\n",
        "import numpy as np\n",
        "import matplotlib.pyplot as plt\n",
        "import seaborn as sns; sns.set()"
      ]
    },
    {
      "cell_type": "code",
      "execution_count": null,
      "metadata": {
        "colab": {
          "base_uri": "https://localhost:8080/"
        },
        "id": "lJ8AettN15cK",
        "outputId": "cfba76cb-76a1-4295-dbf8-083f0d7336ad"
      },
      "outputs": [
        {
          "output_type": "execute_result",
          "data": {
            "text/plain": [
              "Hardness             195.968072\n",
              "Solids             21917.441374\n",
              "Chloramines            7.134338\n",
              "Sulfate              333.224672\n",
              "Conductivity         426.526409\n",
              "Organic_carbon        14.357709\n",
              "Trihalomethanes       66.400859\n",
              "Turbidity              3.969729\n",
              "Potability             0.403282\n",
              "dtype: float64"
            ]
          },
          "metadata": {},
          "execution_count": 34
        }
      ],
      "source": [
        "X.mean()"
      ]
    },
    {
      "cell_type": "code",
      "execution_count": null,
      "metadata": {
        "colab": {
          "base_uri": "https://localhost:8080/"
        },
        "id": "8gPoo6yD2ChA",
        "outputId": "a6c376c6-fc3c-4741-a0d7-440c9871b1c2"
      },
      "outputs": [
        {
          "output_type": "execute_result",
          "data": {
            "text/plain": [
              "Hardness             32.635085\n",
              "Solids             8642.239815\n",
              "Chloramines           1.584820\n",
              "Sulfate              41.205172\n",
              "Conductivity         80.712572\n",
              "Organic_carbon        3.324959\n",
              "Trihalomethanes      16.077109\n",
              "Turbidity             0.780346\n",
              "Potability            0.490678\n",
              "dtype: float64"
            ]
          },
          "metadata": {},
          "execution_count": 35
        }
      ],
      "source": [
        "# find the standard varience of the data.\n",
        "X.std()"
      ]
    },
    {
      "cell_type": "code",
      "execution_count": null,
      "metadata": {
        "colab": {
          "base_uri": "https://localhost:8080/"
        },
        "id": "1yDeOmL2DO8M",
        "outputId": "2d1d6c92-0bb9-4402-9d59-aeca67c11c80"
      },
      "outputs": [
        {
          "output_type": "execute_result",
          "data": {
            "text/plain": [
              "(300, 2)"
            ]
          },
          "metadata": {},
          "execution_count": 44
        }
      ],
      "source": [
        "X.shape"
      ]
    },
    {
      "cell_type": "markdown",
      "source": [
        "We import data and selected two groups of data to describe, 'Hardness' and 'Sulfate'"
      ],
      "metadata": {
        "id": "GyhQUFxX7Bvn"
      }
    },
    {
      "cell_type": "code",
      "source": [
        "df = pd.read_csv('water_potability.csv')\n",
        "df.dropna(inplace=True)"
      ],
      "metadata": {
        "id": "UuP4leOO12X1"
      },
      "execution_count": null,
      "outputs": []
    },
    {
      "cell_type": "code",
      "source": [
        "from sklearn.datasets import make_blobs\n",
        "X, y= [df['Hardness'].values, df['Sulfate'].values]\n",
        "X, y = make_blobs(n_samples=300, centers=4,\n",
        "                   cluster_std=1.0)\n",
        "plt.scatter(X[:, 0], X[:, 1], c=y, s=50, cmap='rainbow');"
      ],
      "metadata": {
        "colab": {
          "base_uri": "https://localhost:8080/",
          "height": 269
        },
        "id": "g6jSl9SN1v1Y",
        "outputId": "a56ef677-5ff2-49ce-89d1-f22c46d79bcd"
      },
      "execution_count": null,
      "outputs": [
        {
          "output_type": "display_data",
          "data": {
            "text/plain": [
              "<Figure size 432x288 with 1 Axes>"
            ],
            "image/png": "[encoded data removed]"
          },
          "metadata": {}
        }
      ]
    },
    {
      "cell_type": "markdown",
      "source": [
        "The decision tree is constructed according to one feature or another. For each division, the majority voting result labels of the points in the new area are assigned to the area."
      ],
      "metadata": {
        "id": "0WXZmU3zARVF"
      }
    },
    {
      "cell_type": "code",
      "execution_count": null,
      "metadata": {
        "id": "WCumJjwW4eYS"
      },
      "outputs": [],
      "source": [
        "# fitting a decision tree\n",
        "from sklearn.tree import DecisionTreeClassifier\n",
        "tree = DecisionTreeClassifier().fit(X, y)"
      ]
    },
    {
      "cell_type": "code",
      "execution_count": null,
      "metadata": {
        "id": "9c2f1q3D_2Tx"
      },
      "outputs": [],
      "source": [
        "from mlxtend.plotting import plot_decision_regions\n",
        "\n",
        "def visualize_classifier(model, X, y, ax=None, cmap='rainbow'):\n",
        "    ax = ax or plt.gca()\n",
        "    \n",
        "    # Plot the training points\n",
        "    ax.scatter(X[:, 0], X[:, 1], c=y, s=30, cmap=cmap,\n",
        "               clim=(y.min(), y.max()), zorder=3)\n",
        "    ax.axis('tight')\n",
        "    ax.axis('off')\n",
        "    xlim = ax.get_xlim()\n",
        "    ylim = ax.get_ylim()\n",
        "    \n",
        "    # fit the estimator\n",
        "    model.fit(X, y)\n",
        "    xx, yy = np.meshgrid(np.linspace(*xlim, num=200),\n",
        "                         np.linspace(*ylim, num=200))\n",
        "    Z = model.predict(np.c_[xx.ravel(), yy.ravel()]).reshape(xx.shape)\n",
        "\n",
        "    # Create a color plot with the results\n",
        "    n_classes = len(np.unique(y))\n",
        "    contours = ax.contourf(xx, yy, Z, alpha=0.3,\n",
        "                           levels=np.arange(n_classes + 1) - 0.5,\n",
        "                           cmap=cmap, clim=(y.min(), y.max()),\n",
        "                           zorder=1)\n",
        "\n",
        "    ax.set(xlim=xlim, ylim=ylim)"
      ]
    },
    {
      "cell_type": "code",
      "execution_count": null,
      "metadata": {
        "colab": {
          "base_uri": "https://localhost:8080/",
          "height": 286
        },
        "id": "OiMw5lcr4-JJ",
        "outputId": "5dd71881-17e6-4245-e5ec-05a674fc71f4"
      },
      "outputs": [
        {
          "output_type": "stream",
          "name": "stderr",
          "text": [
            "/usr/local/lib/python3.7/dist-packages/ipykernel_launcher.py:25: UserWarning: The following kwargs were not used by contour: 'clim'\n"
          ]
        },
        {
          "output_type": "display_data",
          "data": {
            "text/plain": [
              "<Figure size 432x288 with 1 Axes>"
            ],
            "image/png": "[encoded data removed]"
          },
          "metadata": {}
        }
      ],
      "source": [
        "visualize_classifier(DecisionTreeClassifier(), X, y)"
      ]
    },
    {
      "cell_type": "markdown",
      "source": [
        ""
      ],
      "metadata": {
        "id": "1zKA-m4ONll0"
      }
    },
    {
      "cell_type": "markdown",
      "metadata": {
        "id": "2UqLq7mvNPXf"
      },
      "source": [
        "To do Random forest, compared with the decision tree, it no overfitting. "
      ]
    },
    {
      "cell_type": "markdown",
      "source": [
        "We can use scikit learn's baggingclassifier meta evaluator to implement this bagging classifier:"
      ],
      "metadata": {
        "id": "ZW6uyfaG_pqE"
      }
    },
    {
      "cell_type": "code",
      "execution_count": null,
      "metadata": {
        "colab": {
          "base_uri": "https://localhost:8080/",
          "height": 286
        },
        "id": "qgJ3UEGn7NAS",
        "outputId": "e894d155-7896-4d76-a1ee-0bf9851ea727"
      },
      "outputs": [
        {
          "output_type": "stream",
          "name": "stderr",
          "text": [
            "/usr/local/lib/python3.7/dist-packages/ipykernel_launcher.py:25: UserWarning: The following kwargs were not used by contour: 'clim'\n"
          ]
        },
        {
          "output_type": "display_data",
          "data": {
            "text/plain": [
              "<Figure size 432x288 with 1 Axes>"
            ],
            "image/png": "[encoded data removed]"
          },
          "metadata": {}
        }
      ],
      "source": [
        "# do random forest. if it is overfiting.\n",
        "from sklearn.tree import DecisionTreeClassifier\n",
        "from sklearn.ensemble import BaggingClassifier\n",
        "\n",
        "tree = DecisionTreeClassifier()\n",
        "bag = BaggingClassifier(tree, n_estimators=100, max_samples=0.8,\n",
        "                        )\n",
        "\n",
        "bag.fit(X, y)\n",
        "visualize_classifier(bag, X, y)"
      ]
    },
    {
      "cell_type": "markdown",
      "source": [
        "In scikit learn, the optimization of stochastic decision tree integration algorithm is realized through randomforestclassifier evaluator, which will automatically make randomized decisions. As long as we select a set of evaluators, we can complete the fitting task of each tree very quickly (parallel calculation if necessary):"
      ],
      "metadata": {
        "id": "11KOLixa_IAC"
      }
    },
    {
      "cell_type": "code",
      "execution_count": null,
      "metadata": {
        "colab": {
          "base_uri": "https://localhost:8080/",
          "height": 286
        },
        "id": "qWeqCqcr7ti0",
        "outputId": "6754a661-a906-4342-8e2f-6fc22b68b3c5"
      },
      "outputs": [
        {
          "output_type": "stream",
          "name": "stderr",
          "text": [
            "/usr/local/lib/python3.7/dist-packages/ipykernel_launcher.py:25: UserWarning: The following kwargs were not used by contour: 'clim'\n"
          ]
        },
        {
          "output_type": "display_data",
          "data": {
            "text/plain": [
              "<Figure size 432x288 with 1 Axes>"
            ],
            "image/png": "[encoded data removed]"
          },
          "metadata": {}
        }
      ],
      "source": [
        "from sklearn.ensemble import RandomForestClassifier\n",
        "\n",
        "model = RandomForestClassifier(n_estimators=100)\n",
        "visualize_classifier(model, X, y);"
      ]
    },
    {
      "cell_type": "markdown",
      "source": [
        "The following data are combined by fast and slow oscillation:"
      ],
      "metadata": {
        "id": "sbnYok9G-RDb"
      }
    },
    {
      "cell_type": "code",
      "execution_count": null,
      "metadata": {
        "colab": {
          "base_uri": "https://localhost:8080/",
          "height": 268
        },
        "id": "QUvDe7qD8Eh2",
        "outputId": "db45b2f2-c7dc-48a5-9ea6-684a643f1c4f"
      },
      "outputs": [
        {
          "output_type": "display_data",
          "data": {
            "text/plain": [
              "<Figure size 432x288 with 1 Axes>"
            ],
            "image/png": "[encoded data removed]"
          },
          "metadata": {}
        }
      ],
      "source": [
        "rng = np.random.RandomState(42)\n",
        "x = 10 * rng.rand(300)\n",
        "\n",
        "def model(x, sigma=0.3):\n",
        "    fast_oscillation = np.sin(5 * x)\n",
        "    slow_oscillation = np.sin(0.5 * x)\n",
        "    noise = sigma * rng.randn(len(x))\n",
        "\n",
        "    return slow_oscillation + fast_oscillation + noise\n",
        "\n",
        "y = model(x)\n",
        "plt.errorbar(x, y, 0.3, fmt='o');"
      ]
    },
    {
      "cell_type": "markdown",
      "source": [
        "Through the random forest regressor, the following best fitting curve can be obtained:"
      ],
      "metadata": {
        "id": "DJKn1Fx1-we4"
      }
    },
    {
      "cell_type": "code",
      "execution_count": null,
      "metadata": {
        "colab": {
          "base_uri": "https://localhost:8080/",
          "height": 268
        },
        "id": "P1meHhzE8WX5",
        "outputId": "93c9cafa-6e67-4cf2-934f-f20c0350eba7"
      },
      "outputs": [
        {
          "output_type": "display_data",
          "data": {
            "text/plain": [
              "<Figure size 432x288 with 1 Axes>"
            ],
            "image/png": "[encoded data removed]"
          },
          "metadata": {}
        }
      ],
      "source": [
        "# Use the random forest regressor, find the best fit curve as follows:\n",
        "from sklearn.ensemble import RandomForestRegressor\n",
        "forest = RandomForestRegressor(300)\n",
        "forest.fit(x[:, None], y)\n",
        "\n",
        "xfit = np.linspace(0, 10, 300)\n",
        "yfit = forest.predict(xfit[:, None])\n",
        "ytrue = model(xfit, sigma=0)\n",
        "\n",
        "plt.errorbar(x, y, 0.3, fmt='o', alpha=0.5)\n",
        "plt.plot(xfit, yfit, '-r');\n",
        "plt.plot(xfit, ytrue, '-k', alpha=0.5);"
      ]
    },
    {
      "cell_type": "markdown",
      "source": [
        "![image.png](data:image/png;base64,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)"
      ],
      "metadata": {
        "id": "cTMIfIB_rdDJ"
      }
    },
    {
      "cell_type": "markdown",
      "metadata": {
        "id": "p38fhrYo84m3"
      },
      "source": [
        "Logistic regression:\n",
        "Advantages: simple implementation and wide application. When classifying, the amount of calculation is very small, the speed is very fast, and the storage resources are low; Convenient observation sample probability score; Finally, the matrix and curve obtained are more intuitive to judge the results. Its advantage is that the output value naturally falls between 0 and 1, and has probabilistic significance.\n",
        "Disadvantages: when the sample is large, the performance of logistic regression is not very good. It can not fit and regress many samples at the same time, and can not deal with a large number of multi class features or variables well. For nonlinear features, transformation is required."
      ]
    },
    {
      "cell_type": "markdown",
      "metadata": {
        "id": "PBw10yLtGWPH"
      },
      "source": [
        "Decision tree: advantage:\n",
        "(1) The amount of calculation is relatively small, and it is easy to convert into classification rules, so the speed is fast\n",
        "(2) High accuracy: the mined classification rules are highly accurate and easy to understand\n",
        "(3) It can process large sample data\n",
        "Disadvantages:\n",
        "(1) Easy over fitting\n",
        "(2) Ignore correlation between attributes"
      ]
    },
    {
      "cell_type": "markdown",
      "metadata": {
        "id": "dyKu3A-18yOr"
      },
      "source": [
        "Random forest:\n",
        "advantage:\n",
        "1) Random forest can process high-dimensional data (that is, data with many features) without feature selection.\n",
        "2) Which characteristics can be given by random forest are more important.\n",
        "3) The training speed is fast and it is easy to make parallelization method (during training, trees are independent of each other).\n",
        "4) In the training process, the influence between features can be detected.\n",
        "5) Random forest has strong anti overfitting ability.\n",
        "6) Random forest can solve two types of problems: classification and regression, and has good estimation performance in both aspects.\n",
        "\n",
        "Disadvantages:\n",
        "1) Random forest does not perform as well in solving regression problems as it does in classification.\n",
        "2) There may be many similar decision trees that mask the real results.\n",
        "3) It is more suitable for big data. For small data or low dimensional data (data with fewer features), it may not produce good classification."
      ]
    },
    {
      "cell_type": "markdown",
      "source": [
        "![image.png](data:image/png;base64,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)"
      ],
      "metadata": {
        "id": "tk8-gmQFj4hB"
      }
    },
    {
      "cell_type": "markdown",
      "source": [
        "The best algorithm is decision tree, because in this case, we compared the result with that of random forest. And find it not overfitted. \n",
        "The charecter of this database:\n",
        "1）we find that the database include many digital nember, and the topic and task of this work are related to environmental science.\n",
        "2) not only the category, but need more accurate in number.\n",
        "3) the data is independent with the others, and no relavance with other data in one colonm.\n",
        "  \n",
        "The advantages of decision tree, used in this work:  \n",
        "1) the calculation is relatively small, the data suit this charecter.\n",
        "2) it need a good accuracy result, so decision tree is very suit for this.\n",
        "3）the result is not overfitting.\n",
        "4) the attributes are not need to be correlated.\n",
        "\n",
        "For evaluated other algorithms, we give some reasons that those algorithms have some disadvantages to do this work：\n",
        "1) for Logistic regression: the calculation is very small. but we have a large digital number of this database. And the matrics also not suitbale for this work. we think it is not suitable for this work.\n",
        "2) for random forest: we think it is fine, and this algorithm is randomly in select the value, it is very intellegent, but the disadvantages of this algorithm is obvierse, the function of regression we think is not very good, but we need the regression part. "
      ],
      "metadata": {
        "id": "d_8qIFnij7rp"
      }
    }
  ],
  "metadata": {
    "colab": {
      "collapsed_sections": [],
      "name": "exercise 3 Water_potability-Yujing CHEN-Haiwei FU.ipynb",
      "provenance": [],
      "include_colab_link": true
    },
    "kernelspec": {
      "display_name": "Python 3",
      "name": "python3"
    },
    "language_info": {
      "name": "python"
    }
  },
  "nbformat": 4,
  "nbformat_minor": 0
}
