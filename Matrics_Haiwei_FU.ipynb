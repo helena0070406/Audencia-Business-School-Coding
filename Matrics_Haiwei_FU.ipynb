{
  "nbformat": 4,
  "nbformat_minor": 0,
  "metadata": {
    "colab": {
      "name": "Matrics-Haiwei FU.ipynb",
      "provenance": [],
      "collapsed_sections": [],
      "authorship_tag": "ABX9TyOvkAvoaey+EtkbeaGc7ci7",
      "include_colab_link": true
    },
    "kernelspec": {
      "name": "python3",
      "display_name": "Python 3"
    },
    "language_info": {
      "name": "python"
    }
  },
  "cells": [
    {
      "cell_type": "markdown",
      "metadata": {
        "id": "view-in-github",
        "colab_type": "text"
      },
      "source": [
        "<a href=\"https://colab.research.google.com/github/helena0070406/Code/blob/main/Matrics_Haiwei_FU.ipynb\" target=\"_parent\"><img src=\"https://colab.research.google.com/assets/colab-badge.svg\" alt=\"Open In Colab\"/></a>"
      ]
    },
    {
      "cell_type": "markdown",
      "source": [
        "Coding by Haiwei FU"
      ],
      "metadata": {
        "id": "DwYR4pvtQoXK"
      }
    },
    {
      "cell_type": "code",
      "source": [
        "# Import libraries, features and settings \n",
        "import matplotlib.pyplot as plt\n",
        "import numpy as np\n",
        "from sklearn import datasets, linear_model\n",
        "from sklearn.metrics import mean_squared_error, r2_score\n",
        "import pandas as pd\n",
        "import io\n",
        "%matplotlib inline\n",
        "import matplotlib.pyplot as plt\n",
        "import seaborn as sns; sns.set()\n",
        "from sklearn import preprocessing\n",
        "plt.rc(\"font\", size = 14)\n",
        "from sklearn.linear_model import LogisticRegression\n",
        "from sklearn.model_selection import train_test_split\n",
        "sns.set(style=\"white\")\n",
        "sns.set(style=\"whitegrid\", color_codes = True)"
      ],
      "metadata": {
        "id": "ezd3IDva0kDp"
      },
      "execution_count": null,
      "outputs": []
    },
    {
      "cell_type": "code",
      "execution_count": null,
      "metadata": {
        "colab": {
          "base_uri": "https://localhost:8080/",
          "height": 362
        },
        "id": "DrG7z7UWyUpv",
        "outputId": "2daca665-b356-4fd1-ed09-0bd4c72d078f"
      },
      "outputs": [
        {
          "output_type": "execute_result",
          "data": {
            "text/plain": [
              "       competitorname  chocolate  fruity  caramel  peanutyalmondy  nougat  \\\n",
              "0           100 Grand          1       0        1               0       0   \n",
              "1        3 Musketeers          1       0        0               0       1   \n",
              "2            One dime          0       0        0               0       0   \n",
              "3         One quarter          0       0        0               0       0   \n",
              "4           Air Heads          0       1        0               0       0   \n",
              "5          Almond Joy          1       0        0               1       0   \n",
              "6           Baby Ruth          1       0        1               1       1   \n",
              "7  Boston Baked Beans          0       0        0               1       0   \n",
              "8          Candy Corn          0       0        0               0       0   \n",
              "9  Caramel Apple Pops          0       1        1               0       0   \n",
              "\n",
              "   crispedricewafer  hard  bar  pluribus  sugarpercent  pricepercent  \\\n",
              "0                 1     0    1         0         0.732         0.860   \n",
              "1                 0     0    1         0         0.604         0.511   \n",
              "2                 0     0    0         0         0.011         0.116   \n",
              "3                 0     0    0         0         0.011         0.511   \n",
              "4                 0     0    0         0         0.906         0.511   \n",
              "5                 0     0    1         0         0.465         0.767   \n",
              "6                 0     0    1         0         0.604         0.767   \n",
              "7                 0     0    0         1         0.313         0.511   \n",
              "8                 0     0    0         1         0.906         0.325   \n",
              "9                 0     0    0         0         0.604         0.325   \n",
              "\n",
              "   winpercent  \n",
              "0   66.971725  \n",
              "1   67.602936  \n",
              "2   32.261086  \n",
              "3   46.116505  \n",
              "4   52.341465  \n",
              "5   50.347546  \n",
              "6   56.914547  \n",
              "7   23.417824  \n",
              "8   38.010963  \n",
              "9   34.517681  "
            ],
            "text/html": [
              "\n",
              "  <div id=\"df-9215df4f-5555-4bdc-be86-107d7e1306aa\">\n",
              "    <div class=\"colab-df-container\">\n",
              "      <div>\n",
              "<style scoped>\n",
              "    .dataframe tbody tr th:only-of-type {\n",
              "        vertical-align: middle;\n",
              "    }\n",
              "\n",
              "    .dataframe tbody tr th {\n",
              "        vertical-align: top;\n",
              "    }\n",
              "\n",
              "    .dataframe thead th {\n",
              "        text-align: right;\n",
              "    }\n",
              "</style>\n",
              "<table border=\"1\" class=\"dataframe\">\n",
              "  <thead>\n",
              "    <tr style=\"text-align: right;\">\n",
              "      <th></th>\n",
              "      <th>competitorname</th>\n",
              "      <th>chocolate</th>\n",
              "      <th>fruity</th>\n",
              "      <th>caramel</th>\n",
              "      <th>peanutyalmondy</th>\n",
              "      <th>nougat</th>\n",
              "      <th>crispedricewafer</th>\n",
              "      <th>hard</th>\n",
              "      <th>bar</th>\n",
              "      <th>pluribus</th>\n",
              "      <th>sugarpercent</th>\n",
              "      <th>pricepercent</th>\n",
              "      <th>winpercent</th>\n",
              "    </tr>\n",
              "  </thead>\n",
              "  <tbody>\n",
              "    <tr>\n",
              "      <th>0</th>\n",
              "      <td>100 Grand</td>\n",
              "      <td>1</td>\n",
              "      <td>0</td>\n",
              "      <td>1</td>\n",
              "      <td>0</td>\n",
              "      <td>0</td>\n",
              "      <td>1</td>\n",
              "      <td>0</td>\n",
              "      <td>1</td>\n",
              "      <td>0</td>\n",
              "      <td>0.732</td>\n",
              "      <td>0.860</td>\n",
              "      <td>66.971725</td>\n",
              "    </tr>\n",
              "    <tr>\n",
              "      <th>1</th>\n",
              "      <td>3 Musketeers</td>\n",
              "      <td>1</td>\n",
              "      <td>0</td>\n",
              "      <td>0</td>\n",
              "      <td>0</td>\n",
              "      <td>1</td>\n",
              "      <td>0</td>\n",
              "      <td>0</td>\n",
              "      <td>1</td>\n",
              "      <td>0</td>\n",
              "      <td>0.604</td>\n",
              "      <td>0.511</td>\n",
              "      <td>67.602936</td>\n",
              "    </tr>\n",
              "    <tr>\n",
              "      <th>2</th>\n",
              "      <td>One dime</td>\n",
              "      <td>0</td>\n",
              "      <td>0</td>\n",
              "      <td>0</td>\n",
              "      <td>0</td>\n",
              "      <td>0</td>\n",
              "      <td>0</td>\n",
              "      <td>0</td>\n",
              "      <td>0</td>\n",
              "      <td>0</td>\n",
              "      <td>0.011</td>\n",
              "      <td>0.116</td>\n",
              "      <td>32.261086</td>\n",
              "    </tr>\n",
              "    <tr>\n",
              "      <th>3</th>\n",
              "      <td>One quarter</td>\n",
              "      <td>0</td>\n",
              "      <td>0</td>\n",
              "      <td>0</td>\n",
              "      <td>0</td>\n",
              "      <td>0</td>\n",
              "      <td>0</td>\n",
              "      <td>0</td>\n",
              "      <td>0</td>\n",
              "      <td>0</td>\n",
              "      <td>0.011</td>\n",
              "      <td>0.511</td>\n",
              "      <td>46.116505</td>\n",
              "    </tr>\n",
              "    <tr>\n",
              "      <th>4</th>\n",
              "      <td>Air Heads</td>\n",
              "      <td>0</td>\n",
              "      <td>1</td>\n",
              "      <td>0</td>\n",
              "      <td>0</td>\n",
              "      <td>0</td>\n",
              "      <td>0</td>\n",
              "      <td>0</td>\n",
              "      <td>0</td>\n",
              "      <td>0</td>\n",
              "      <td>0.906</td>\n",
              "      <td>0.511</td>\n",
              "      <td>52.341465</td>\n",
              "    </tr>\n",
              "    <tr>\n",
              "      <th>5</th>\n",
              "      <td>Almond Joy</td>\n",
              "      <td>1</td>\n",
              "      <td>0</td>\n",
              "      <td>0</td>\n",
              "      <td>1</td>\n",
              "      <td>0</td>\n",
              "      <td>0</td>\n",
              "      <td>0</td>\n",
              "      <td>1</td>\n",
              "      <td>0</td>\n",
              "      <td>0.465</td>\n",
              "      <td>0.767</td>\n",
              "      <td>50.347546</td>\n",
              "    </tr>\n",
              "    <tr>\n",
              "      <th>6</th>\n",
              "      <td>Baby Ruth</td>\n",
              "      <td>1</td>\n",
              "      <td>0</td>\n",
              "      <td>1</td>\n",
              "      <td>1</td>\n",
              "      <td>1</td>\n",
              "      <td>0</td>\n",
              "      <td>0</td>\n",
              "      <td>1</td>\n",
              "      <td>0</td>\n",
              "      <td>0.604</td>\n",
              "      <td>0.767</td>\n",
              "      <td>56.914547</td>\n",
              "    </tr>\n",
              "    <tr>\n",
              "      <th>7</th>\n",
              "      <td>Boston Baked Beans</td>\n",
              "      <td>0</td>\n",
              "      <td>0</td>\n",
              "      <td>0</td>\n",
              "      <td>1</td>\n",
              "      <td>0</td>\n",
              "      <td>0</td>\n",
              "      <td>0</td>\n",
              "      <td>0</td>\n",
              "      <td>1</td>\n",
              "      <td>0.313</td>\n",
              "      <td>0.511</td>\n",
              "      <td>23.417824</td>\n",
              "    </tr>\n",
              "    <tr>\n",
              "      <th>8</th>\n",
              "      <td>Candy Corn</td>\n",
              "      <td>0</td>\n",
              "      <td>0</td>\n",
              "      <td>0</td>\n",
              "      <td>0</td>\n",
              "      <td>0</td>\n",
              "      <td>0</td>\n",
              "      <td>0</td>\n",
              "      <td>0</td>\n",
              "      <td>1</td>\n",
              "      <td>0.906</td>\n",
              "      <td>0.325</td>\n",
              "      <td>38.010963</td>\n",
              "    </tr>\n",
              "    <tr>\n",
              "      <th>9</th>\n",
              "      <td>Caramel Apple Pops</td>\n",
              "      <td>0</td>\n",
              "      <td>1</td>\n",
              "      <td>1</td>\n",
              "      <td>0</td>\n",
              "      <td>0</td>\n",
              "      <td>0</td>\n",
              "      <td>0</td>\n",
              "      <td>0</td>\n",
              "      <td>0</td>\n",
              "      <td>0.604</td>\n",
              "      <td>0.325</td>\n",
              "      <td>34.517681</td>\n",
              "    </tr>\n",
              "  </tbody>\n",
              "</table>\n",
              "</div>\n",
              "      <button class=\"colab-df-convert\" onclick=\"convertToInteractive('df-9215df4f-5555-4bdc-be86-107d7e1306aa')\"\n",
              "              title=\"Convert this dataframe to an interactive table.\"\n",
              "              style=\"display:none;\">\n",
              "        \n",
              "  <svg xmlns=\"http://www.w3.org/2000/svg\" height=\"24px\"viewBox=\"0 0 24 24\"\n",
              "       width=\"24px\">\n",
              "    <path d=\"M0 0h24v24H0V0z\" fill=\"none\"/>\n",
              "    <path d=\"M18.56 5.44l.94 2.06.94-2.06 2.06-.94-2.06-.94-.94-2.06-.94 2.06-2.06.94zm-11 1L8.5 8.5l.94-2.06 2.06-.94-2.06-.94L8.5 2.5l-.94 2.06-2.06.94zm10 10l.94 2.06.94-2.06 2.06-.94-2.06-.94-.94-2.06-.94 2.06-2.06.94z\"/><path d=\"M17.41 7.96l-1.37-1.37c-.4-.4-.92-.59-1.43-.59-.52 0-1.04.2-1.43.59L10.3 9.45l-7.72 7.72c-.78.78-.78 2.05 0 2.83L4 21.41c.39.39.9.59 1.41.59.51 0 1.02-.2 1.41-.59l7.78-7.78 2.81-2.81c.8-.78.8-2.07 0-2.86zM5.41 20L4 18.59l7.72-7.72 1.47 1.35L5.41 20z\"/>\n",
              "  </svg>\n",
              "      </button>\n",
              "      \n",
              "  <style>\n",
              "    .colab-df-container {\n",
              "      display:flex;\n",
              "      flex-wrap:wrap;\n",
              "      gap: 12px;\n",
              "    }\n",
              "\n",
              "    .colab-df-convert {\n",
              "      background-color: #E8F0FE;\n",
              "      border: none;\n",
              "      border-radius: 50%;\n",
              "      cursor: pointer;\n",
              "      display: none;\n",
              "      fill: #1967D2;\n",
              "      height: 32px;\n",
              "      padding: 0 0 0 0;\n",
              "      width: 32px;\n",
              "    }\n",
              "\n",
              "    .colab-df-convert:hover {\n",
              "      background-color: #E2EBFA;\n",
              "      box-shadow: 0px 1px 2px rgba(60, 64, 67, 0.3), 0px 1px 3px 1px rgba(60, 64, 67, 0.15);\n",
              "      fill: #174EA6;\n",
              "    }\n",
              "\n",
              "    [theme=dark] .colab-df-convert {\n",
              "      background-color: #3B4455;\n",
              "      fill: #D2E3FC;\n",
              "    }\n",
              "\n",
              "    [theme=dark] .colab-df-convert:hover {\n",
              "      background-color: #434B5C;\n",
              "      box-shadow: 0px 1px 3px 1px rgba(0, 0, 0, 0.15);\n",
              "      filter: drop-shadow(0px 1px 2px rgba(0, 0, 0, 0.3));\n",
              "      fill: #FFFFFF;\n",
              "    }\n",
              "  </style>\n",
              "\n",
              "      <script>\n",
              "        const buttonEl =\n",
              "          document.querySelector('#df-9215df4f-5555-4bdc-be86-107d7e1306aa button.colab-df-convert');\n",
              "        buttonEl.style.display =\n",
              "          google.colab.kernel.accessAllowed ? 'block' : 'none';\n",
              "\n",
              "        async function convertToInteractive(key) {\n",
              "          const element = document.querySelector('#df-9215df4f-5555-4bdc-be86-107d7e1306aa');\n",
              "          const dataTable =\n",
              "            await google.colab.kernel.invokeFunction('convertToInteractive',\n",
              "                                                     [key], {});\n",
              "          if (!dataTable) return;\n",
              "\n",
              "          const docLinkHtml = 'Like what you see? Visit the ' +\n",
              "            '<a target=\"_blank\" href=https://colab.research.google.com/notebooks/data_table.ipynb>data table notebook</a>'\n",
              "            + ' to learn more about interactive tables.';\n",
              "          element.innerHTML = '';\n",
              "          dataTable['output_type'] = 'display_data';\n",
              "          await google.colab.output.renderOutput(dataTable, element);\n",
              "          const docLink = document.createElement('div');\n",
              "          docLink.innerHTML = docLinkHtml;\n",
              "          element.appendChild(docLink);\n",
              "        }\n",
              "      </script>\n",
              "    </div>\n",
              "  </div>\n",
              "  "
            ]
          },
          "metadata": {},
          "execution_count": 2
        }
      ],
      "source": [
        "# improt database.\n",
        "Candydata = pd.read_csv(\"candy-data.csv\")\n",
        "Candydata.head(10)"
      ]
    },
    {
      "cell_type": "markdown",
      "source": [
        "![image.png](data:image/png;base64,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)"
      ],
      "metadata": {
        "id": "tJsx9HdyhJ_g"
      }
    },
    {
      "cell_type": "code",
      "source": [
        "# create datasat.\n",
        "Carameldata = Candydata['caramel']\n",
        "Carameldata.head(10)"
      ],
      "metadata": {
        "colab": {
          "base_uri": "https://localhost:8080/"
        },
        "id": "wQe7z-H00rhJ",
        "outputId": "84a72022-d269-4378-d36a-e7b9e38ec829"
      },
      "execution_count": null,
      "outputs": [
        {
          "output_type": "execute_result",
          "data": {
            "text/plain": [
              "0    1\n",
              "1    0\n",
              "2    0\n",
              "3    0\n",
              "4    0\n",
              "5    0\n",
              "6    1\n",
              "7    0\n",
              "8    0\n",
              "9    1\n",
              "Name: caramel, dtype: int64"
            ]
          },
          "metadata": {},
          "execution_count": 3
        }
      ]
    },
    {
      "cell_type": "code",
      "source": [
        "# see data type.\n",
        "Carameldata.dtypes"
      ],
      "metadata": {
        "colab": {
          "base_uri": "https://localhost:8080/"
        },
        "id": "_vXHL2gC188k",
        "outputId": "6b9949e6-088f-44da-f955-114f3d85e08f"
      },
      "execution_count": null,
      "outputs": [
        {
          "output_type": "execute_result",
          "data": {
            "text/plain": [
              "dtype('int64')"
            ]
          },
          "metadata": {},
          "execution_count": 4
        }
      ]
    },
    {
      "cell_type": "code",
      "source": [
        "# Clean the missing values if needed\n",
        "train_df = Carameldata.dropna()\n",
        "train_df.head(10)"
      ],
      "metadata": {
        "colab": {
          "base_uri": "https://localhost:8080/"
        },
        "id": "DCxlXAz1555f",
        "outputId": "d77f2c63-bba8-4530-bd98-dc9b113e40fe"
      },
      "execution_count": null,
      "outputs": [
        {
          "output_type": "execute_result",
          "data": {
            "text/plain": [
              "0    1\n",
              "1    0\n",
              "2    0\n",
              "3    0\n",
              "4    0\n",
              "5    0\n",
              "6    1\n",
              "7    0\n",
              "8    0\n",
              "9    1\n",
              "Name: caramel, dtype: int64"
            ]
          },
          "metadata": {},
          "execution_count": 5
        }
      ]
    },
    {
      "cell_type": "code",
      "source": [
        "# count data values.\n",
        "train_df.value_counts()\n"
      ],
      "metadata": {
        "colab": {
          "base_uri": "https://localhost:8080/"
        },
        "id": "z8k9MrQb6Dfz",
        "outputId": "a0014160-9079-45a5-b9c4-995f3f60bdd7"
      },
      "execution_count": null,
      "outputs": [
        {
          "output_type": "execute_result",
          "data": {
            "text/plain": [
              "0    71\n",
              "1    14\n",
              "Name: caramel, dtype: int64"
            ]
          },
          "metadata": {},
          "execution_count": 6
        }
      ]
    },
    {
      "cell_type": "code",
      "source": [
        "# visualization of the column.\n",
        "sns.countplot(\"caramel\", data=Candydata, palette='Blues_d')\n",
        "plt.show()\n",
        "plt.savefig('count_plot')"
      ],
      "metadata": {
        "colab": {
          "base_uri": "https://localhost:8080/",
          "height": 357
        },
        "id": "pcd6LGg1XxRJ",
        "outputId": "5303ed6a-1c0d-4c4f-e4f2-e7ea87f76bf8"
      },
      "execution_count": null,
      "outputs": [
        {
          "output_type": "stream",
          "name": "stderr",
          "text": [
            "/usr/local/lib/python3.7/dist-packages/seaborn/_decorators.py:43: FutureWarning: Pass the following variable as a keyword arg: x. From version 0.12, the only valid positional argument will be `data`, and passing other arguments without an explicit keyword will result in an error or misinterpretation.\n",
            "  FutureWarning\n"
          ]
        },
        {
          "output_type": "display_data",
          "data": {
            "text/plain": [
              "<Figure size 432x288 with 1 Axes>"
            ],
            "image/png": "[encoded data removed]"
          },
          "metadata": {
            "needs_background": "light"
          }
        },
        {
          "output_type": "display_data",
          "data": {
            "text/plain": [
              "<Figure size 432x288 with 0 Axes>"
            ]
          },
          "metadata": {}
        }
      ]
    },
    {
      "cell_type": "markdown",
      "source": [
        "![image.png](data:image/png;base64,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)"
      ],
      "metadata": {
        "id": "nfCEmBjiiYw3"
      }
    },
    {
      "cell_type": "code",
      "source": [
        "# select columns to do own selection.\n",
        "test_date = Candydata[['chocolate','caramel']]\n",
        "test_date.head(10)"
      ],
      "metadata": {
        "colab": {
          "base_uri": "https://localhost:8080/",
          "height": 362
        },
        "id": "k1bcCalr7IIp",
        "outputId": "1bf2b2d0-f346-4649-baf8-cd8e9376e92e"
      },
      "execution_count": null,
      "outputs": [
        {
          "output_type": "execute_result",
          "data": {
            "text/plain": [
              "   chocolate  caramel\n",
              "0          1        1\n",
              "1          1        0\n",
              "2          0        0\n",
              "3          0        0\n",
              "4          0        0\n",
              "5          1        0\n",
              "6          1        1\n",
              "7          0        0\n",
              "8          0        0\n",
              "9          0        1"
            ],
            "text/html": [
              "\n",
              "  <div id=\"df-bb410d7a-971a-4420-a302-c6e70689b5f3\">\n",
              "    <div class=\"colab-df-container\">\n",
              "      <div>\n",
              "<style scoped>\n",
              "    .dataframe tbody tr th:only-of-type {\n",
              "        vertical-align: middle;\n",
              "    }\n",
              "\n",
              "    .dataframe tbody tr th {\n",
              "        vertical-align: top;\n",
              "    }\n",
              "\n",
              "    .dataframe thead th {\n",
              "        text-align: right;\n",
              "    }\n",
              "</style>\n",
              "<table border=\"1\" class=\"dataframe\">\n",
              "  <thead>\n",
              "    <tr style=\"text-align: right;\">\n",
              "      <th></th>\n",
              "      <th>chocolate</th>\n",
              "      <th>caramel</th>\n",
              "    </tr>\n",
              "  </thead>\n",
              "  <tbody>\n",
              "    <tr>\n",
              "      <th>0</th>\n",
              "      <td>1</td>\n",
              "      <td>1</td>\n",
              "    </tr>\n",
              "    <tr>\n",
              "      <th>1</th>\n",
              "      <td>1</td>\n",
              "      <td>0</td>\n",
              "    </tr>\n",
              "    <tr>\n",
              "      <th>2</th>\n",
              "      <td>0</td>\n",
              "      <td>0</td>\n",
              "    </tr>\n",
              "    <tr>\n",
              "      <th>3</th>\n",
              "      <td>0</td>\n",
              "      <td>0</td>\n",
              "    </tr>\n",
              "    <tr>\n",
              "      <th>4</th>\n",
              "      <td>0</td>\n",
              "      <td>0</td>\n",
              "    </tr>\n",
              "    <tr>\n",
              "      <th>5</th>\n",
              "      <td>1</td>\n",
              "      <td>0</td>\n",
              "    </tr>\n",
              "    <tr>\n",
              "      <th>6</th>\n",
              "      <td>1</td>\n",
              "      <td>1</td>\n",
              "    </tr>\n",
              "    <tr>\n",
              "      <th>7</th>\n",
              "      <td>0</td>\n",
              "      <td>0</td>\n",
              "    </tr>\n",
              "    <tr>\n",
              "      <th>8</th>\n",
              "      <td>0</td>\n",
              "      <td>0</td>\n",
              "    </tr>\n",
              "    <tr>\n",
              "      <th>9</th>\n",
              "      <td>0</td>\n",
              "      <td>1</td>\n",
              "    </tr>\n",
              "  </tbody>\n",
              "</table>\n",
              "</div>\n",
              "      <button class=\"colab-df-convert\" onclick=\"convertToInteractive('df-bb410d7a-971a-4420-a302-c6e70689b5f3')\"\n",
              "              title=\"Convert this dataframe to an interactive table.\"\n",
              "              style=\"display:none;\">\n",
              "        \n",
              "  <svg xmlns=\"http://www.w3.org/2000/svg\" height=\"24px\"viewBox=\"0 0 24 24\"\n",
              "       width=\"24px\">\n",
              "    <path d=\"M0 0h24v24H0V0z\" fill=\"none\"/>\n",
              "    <path d=\"M18.56 5.44l.94 2.06.94-2.06 2.06-.94-2.06-.94-.94-2.06-.94 2.06-2.06.94zm-11 1L8.5 8.5l.94-2.06 2.06-.94-2.06-.94L8.5 2.5l-.94 2.06-2.06.94zm10 10l.94 2.06.94-2.06 2.06-.94-2.06-.94-.94-2.06-.94 2.06-2.06.94z\"/><path d=\"M17.41 7.96l-1.37-1.37c-.4-.4-.92-.59-1.43-.59-.52 0-1.04.2-1.43.59L10.3 9.45l-7.72 7.72c-.78.78-.78 2.05 0 2.83L4 21.41c.39.39.9.59 1.41.59.51 0 1.02-.2 1.41-.59l7.78-7.78 2.81-2.81c.8-.78.8-2.07 0-2.86zM5.41 20L4 18.59l7.72-7.72 1.47 1.35L5.41 20z\"/>\n",
              "  </svg>\n",
              "      </button>\n",
              "      \n",
              "  <style>\n",
              "    .colab-df-container {\n",
              "      display:flex;\n",
              "      flex-wrap:wrap;\n",
              "      gap: 12px;\n",
              "    }\n",
              "\n",
              "    .colab-df-convert {\n",
              "      background-color: #E8F0FE;\n",
              "      border: none;\n",
              "      border-radius: 50%;\n",
              "      cursor: pointer;\n",
              "      display: none;\n",
              "      fill: #1967D2;\n",
              "      height: 32px;\n",
              "      padding: 0 0 0 0;\n",
              "      width: 32px;\n",
              "    }\n",
              "\n",
              "    .colab-df-convert:hover {\n",
              "      background-color: #E2EBFA;\n",
              "      box-shadow: 0px 1px 2px rgba(60, 64, 67, 0.3), 0px 1px 3px 1px rgba(60, 64, 67, 0.15);\n",
              "      fill: #174EA6;\n",
              "    }\n",
              "\n",
              "    [theme=dark] .colab-df-convert {\n",
              "      background-color: #3B4455;\n",
              "      fill: #D2E3FC;\n",
              "    }\n",
              "\n",
              "    [theme=dark] .colab-df-convert:hover {\n",
              "      background-color: #434B5C;\n",
              "      box-shadow: 0px 1px 3px 1px rgba(0, 0, 0, 0.15);\n",
              "      filter: drop-shadow(0px 1px 2px rgba(0, 0, 0, 0.3));\n",
              "      fill: #FFFFFF;\n",
              "    }\n",
              "  </style>\n",
              "\n",
              "      <script>\n",
              "        const buttonEl =\n",
              "          document.querySelector('#df-bb410d7a-971a-4420-a302-c6e70689b5f3 button.colab-df-convert');\n",
              "        buttonEl.style.display =\n",
              "          google.colab.kernel.accessAllowed ? 'block' : 'none';\n",
              "\n",
              "        async function convertToInteractive(key) {\n",
              "          const element = document.querySelector('#df-bb410d7a-971a-4420-a302-c6e70689b5f3');\n",
              "          const dataTable =\n",
              "            await google.colab.kernel.invokeFunction('convertToInteractive',\n",
              "                                                     [key], {});\n",
              "          if (!dataTable) return;\n",
              "\n",
              "          const docLinkHtml = 'Like what you see? Visit the ' +\n",
              "            '<a target=\"_blank\" href=https://colab.research.google.com/notebooks/data_table.ipynb>data table notebook</a>'\n",
              "            + ' to learn more about interactive tables.';\n",
              "          element.innerHTML = '';\n",
              "          dataTable['output_type'] = 'display_data';\n",
              "          await google.colab.output.renderOutput(dataTable, element);\n",
              "          const docLink = document.createElement('div');\n",
              "          docLink.innerHTML = docLinkHtml;\n",
              "          element.appendChild(docLink);\n",
              "        }\n",
              "      </script>\n",
              "    </div>\n",
              "  </div>\n",
              "  "
            ]
          },
          "metadata": {},
          "execution_count": 8
        }
      ]
    },
    {
      "cell_type": "code",
      "source": [
        "x_test = Candydata['chocolate']\n",
        "y_test = Candydata['caramel']\n",
        "x_test.head(5)\n",
        "y_test.head(5)"
      ],
      "metadata": {
        "colab": {
          "base_uri": "https://localhost:8080/"
        },
        "id": "k4M7Qp0FBV-6",
        "outputId": "33d17f76-3e87-462d-b939-d2696133aa56"
      },
      "execution_count": null,
      "outputs": [
        {
          "output_type": "execute_result",
          "data": {
            "text/plain": [
              "0    1\n",
              "1    0\n",
              "2    0\n",
              "3    0\n",
              "4    0\n",
              "Name: caramel, dtype: int64"
            ]
          },
          "metadata": {},
          "execution_count": 9
        }
      ]
    },
    {
      "cell_type": "code",
      "source": [
        "# buld metrics. if have or not only chocolate or both.\n",
        "from sklearn import metrics\n",
        "cnf_matrix = metrics.confusion_matrix(x_test, y_test)\n",
        "cnf_matrix"
      ],
      "metadata": {
        "colab": {
          "base_uri": "https://localhost:8080/"
        },
        "id": "MRIGD7lHA0Nj",
        "outputId": "62c7de3f-6564-49dd-d9da-e73db89e1009"
      },
      "execution_count": null,
      "outputs": [
        {
          "output_type": "execute_result",
          "data": {
            "text/plain": [
              "array([[44,  4],\n",
              "       [27, 10]])"
            ]
          },
          "metadata": {},
          "execution_count": 10
        }
      ]
    },
    {
      "cell_type": "code",
      "source": [
        "import numpy as np\n",
        "import matplotlib.pyplot as plt\n",
        "import seaborn as sns\n",
        "%matplotlib inline"
      ],
      "metadata": {
        "id": "ZlfKEhLACA6W"
      },
      "execution_count": null,
      "outputs": []
    },
    {
      "cell_type": "code",
      "source": [
        "# show the cluster visualization.\n",
        "class_names=[0,1] # name  of classes\n",
        "fig, ax = plt.subplots()\n",
        "tick_marks = np.arange(len(class_names))\n",
        "plt.xticks(tick_marks, class_names)\n",
        "plt.yticks(tick_marks, class_names)\n",
        "# create heatmap\n",
        "sns.heatmap(pd.DataFrame(cnf_matrix), annot=True, cmap=\"YlGnBu\" ,fmt='g')\n",
        "ax.xaxis.set_label_position(\"top\")\n",
        "plt.tight_layout()\n",
        "plt.title('Confusion matrix', y=1.1)\n",
        "plt.ylabel('Actual label')\n",
        "plt.xlabel('Predicted label')"
      ],
      "metadata": {
        "colab": {
          "base_uri": "https://localhost:8080/",
          "height": 344
        },
        "id": "fFcTimwQCD8F",
        "outputId": "e00bcbc1-819b-45b0-dd0a-50e4790c0bdd"
      },
      "execution_count": null,
      "outputs": [
        {
          "output_type": "execute_result",
          "data": {
            "text/plain": [
              "Text(0.5, 257.44, 'Predicted label')"
            ]
          },
          "metadata": {},
          "execution_count": 12
        },
        {
          "output_type": "display_data",
          "data": {
            "text/plain": [
              "<Figure size 432x288 with 2 Axes>"
            ],
            "image/png": "[encoded data removed]"
          },
          "metadata": {
            "needs_background": "light"
          }
        }
      ]
    },
    {
      "cell_type": "code",
      "source": [
        "# synthetic classification dataset\n",
        "from numpy import where\n",
        "from sklearn.datasets import make_classification\n",
        "from matplotlib import pyplot\n",
        "# define dataset\n",
        "X, y = make_classification(n_samples=1000, n_features=2, n_informative=2, n_redundant=0, n_clusters_per_class=1, random_state=4)\n",
        "# create scatter plot for samples from each class\n",
        "for class_value in range(2):\n",
        "\t# get row indexes for samples with this class\n",
        "\trow_ix = where(y == class_value)\n",
        "\t# create scatter of these samples\n",
        "\tpyplot.scatter(X[row_ix, 0], X[row_ix, 1])\n",
        "# show the plot"
      ],
      "metadata": {
        "colab": {
          "base_uri": "https://localhost:8080/",
          "height": 267
        },
        "id": "M8uk0Y_pCXn7",
        "outputId": "c81e5755-9154-4463-c979-f8221b0e46f4"
      },
      "execution_count": null,
      "outputs": [
        {
          "output_type": "display_data",
          "data": {
            "text/plain": [
              "<Figure size 432x288 with 1 Axes>"
            ],
            "image/png": "[encoded data removed]"
          },
          "metadata": {
            "needs_background": "light"
          }
        }
      ]
    },
    {
      "cell_type": "code",
      "source": [
        "clf_log=LogisticRegression().fit(x_test, y_test)\n",
        "y_pred=clf_log.predict(x_test)\n",
        "print(y_pred)"
      ],
      "metadata": {
        "colab": {
          "base_uri": "https://localhost:8080/",
          "height": 451
        },
        "id": "uZlqgA2KlS8v",
        "outputId": "39a44ec9-c687-4a7e-ba0d-253e899ce858"
      },
      "execution_count": null,
      "outputs": [
        {
          "output_type": "error",
          "ename": "ValueError",
          "evalue": "ignored",
          "traceback": [
            "\u001b[0;31m---------------------------------------------------------------------------\u001b[0m",
            "\u001b[0;31mValueError\u001b[0m                                Traceback (most recent call last)",
            "\u001b[0;32m<ipython-input-14-74877311e759>\u001b[0m in \u001b[0;36m<module>\u001b[0;34m()\u001b[0m\n\u001b[0;32m----> 1\u001b[0;31m \u001b[0mclf_log\u001b[0m\u001b[0;34m=\u001b[0m\u001b[0mLogisticRegression\u001b[0m\u001b[0;34m(\u001b[0m\u001b[0;34m)\u001b[0m\u001b[0;34m.\u001b[0m\u001b[0mfit\u001b[0m\u001b[0;34m(\u001b[0m\u001b[0mx_test\u001b[0m\u001b[0;34m,\u001b[0m \u001b[0my_test\u001b[0m\u001b[0;34m)\u001b[0m\u001b[0;34m\u001b[0m\u001b[0;34m\u001b[0m\u001b[0m\n\u001b[0m\u001b[1;32m      2\u001b[0m \u001b[0my_pred\u001b[0m\u001b[0;34m=\u001b[0m\u001b[0mclf_log\u001b[0m\u001b[0;34m.\u001b[0m\u001b[0mpredict\u001b[0m\u001b[0;34m(\u001b[0m\u001b[0mx_test\u001b[0m\u001b[0;34m)\u001b[0m\u001b[0;34m\u001b[0m\u001b[0;34m\u001b[0m\u001b[0m\n\u001b[1;32m      3\u001b[0m \u001b[0mprint\u001b[0m\u001b[0;34m(\u001b[0m\u001b[0my_pred\u001b[0m\u001b[0;34m)\u001b[0m\u001b[0;34m\u001b[0m\u001b[0;34m\u001b[0m\u001b[0m\n",
            "\u001b[0;32m/usr/local/lib/python3.7/dist-packages/sklearn/linear_model/_logistic.py\u001b[0m in \u001b[0;36mfit\u001b[0;34m(self, X, y, sample_weight)\u001b[0m\n\u001b[1;32m   1512\u001b[0m             \u001b[0mdtype\u001b[0m\u001b[0;34m=\u001b[0m\u001b[0m_dtype\u001b[0m\u001b[0;34m,\u001b[0m\u001b[0;34m\u001b[0m\u001b[0;34m\u001b[0m\u001b[0m\n\u001b[1;32m   1513\u001b[0m             \u001b[0morder\u001b[0m\u001b[0;34m=\u001b[0m\u001b[0;34m\"C\"\u001b[0m\u001b[0;34m,\u001b[0m\u001b[0;34m\u001b[0m\u001b[0;34m\u001b[0m\u001b[0m\n\u001b[0;32m-> 1514\u001b[0;31m             \u001b[0maccept_large_sparse\u001b[0m\u001b[0;34m=\u001b[0m\u001b[0msolver\u001b[0m \u001b[0;32mnot\u001b[0m \u001b[0;32min\u001b[0m \u001b[0;34m[\u001b[0m\u001b[0;34m\"liblinear\"\u001b[0m\u001b[0;34m,\u001b[0m \u001b[0;34m\"sag\"\u001b[0m\u001b[0;34m,\u001b[0m \u001b[0;34m\"saga\"\u001b[0m\u001b[0;34m]\u001b[0m\u001b[0;34m,\u001b[0m\u001b[0;34m\u001b[0m\u001b[0;34m\u001b[0m\u001b[0m\n\u001b[0m\u001b[1;32m   1515\u001b[0m         )\n\u001b[1;32m   1516\u001b[0m         \u001b[0mcheck_classification_targets\u001b[0m\u001b[0;34m(\u001b[0m\u001b[0my\u001b[0m\u001b[0;34m)\u001b[0m\u001b[0;34m\u001b[0m\u001b[0;34m\u001b[0m\u001b[0m\n",
            "\u001b[0;32m/usr/local/lib/python3.7/dist-packages/sklearn/base.py\u001b[0m in \u001b[0;36m_validate_data\u001b[0;34m(self, X, y, reset, validate_separately, **check_params)\u001b[0m\n\u001b[1;32m    579\u001b[0m                 \u001b[0my\u001b[0m \u001b[0;34m=\u001b[0m \u001b[0mcheck_array\u001b[0m\u001b[0;34m(\u001b[0m\u001b[0my\u001b[0m\u001b[0;34m,\u001b[0m \u001b[0;34m**\u001b[0m\u001b[0mcheck_y_params\u001b[0m\u001b[0;34m)\u001b[0m\u001b[0;34m\u001b[0m\u001b[0;34m\u001b[0m\u001b[0m\n\u001b[1;32m    580\u001b[0m             \u001b[0;32melse\u001b[0m\u001b[0;34m:\u001b[0m\u001b[0;34m\u001b[0m\u001b[0;34m\u001b[0m\u001b[0m\n\u001b[0;32m--> 581\u001b[0;31m                 \u001b[0mX\u001b[0m\u001b[0;34m,\u001b[0m \u001b[0my\u001b[0m \u001b[0;34m=\u001b[0m \u001b[0mcheck_X_y\u001b[0m\u001b[0;34m(\u001b[0m\u001b[0mX\u001b[0m\u001b[0;34m,\u001b[0m \u001b[0my\u001b[0m\u001b[0;34m,\u001b[0m \u001b[0;34m**\u001b[0m\u001b[0mcheck_params\u001b[0m\u001b[0;34m)\u001b[0m\u001b[0;34m\u001b[0m\u001b[0;34m\u001b[0m\u001b[0m\n\u001b[0m\u001b[1;32m    582\u001b[0m             \u001b[0mout\u001b[0m \u001b[0;34m=\u001b[0m \u001b[0mX\u001b[0m\u001b[0;34m,\u001b[0m \u001b[0my\u001b[0m\u001b[0;34m\u001b[0m\u001b[0;34m\u001b[0m\u001b[0m\n\u001b[1;32m    583\u001b[0m \u001b[0;34m\u001b[0m\u001b[0m\n",
            "\u001b[0;32m/usr/local/lib/python3.7/dist-packages/sklearn/utils/validation.py\u001b[0m in \u001b[0;36mcheck_X_y\u001b[0;34m(X, y, accept_sparse, accept_large_sparse, dtype, order, copy, force_all_finite, ensure_2d, allow_nd, multi_output, ensure_min_samples, ensure_min_features, y_numeric, estimator)\u001b[0m\n\u001b[1;32m    974\u001b[0m         \u001b[0mensure_min_samples\u001b[0m\u001b[0;34m=\u001b[0m\u001b[0mensure_min_samples\u001b[0m\u001b[0;34m,\u001b[0m\u001b[0;34m\u001b[0m\u001b[0;34m\u001b[0m\u001b[0m\n\u001b[1;32m    975\u001b[0m         \u001b[0mensure_min_features\u001b[0m\u001b[0;34m=\u001b[0m\u001b[0mensure_min_features\u001b[0m\u001b[0;34m,\u001b[0m\u001b[0;34m\u001b[0m\u001b[0;34m\u001b[0m\u001b[0m\n\u001b[0;32m--> 976\u001b[0;31m         \u001b[0mestimator\u001b[0m\u001b[0;34m=\u001b[0m\u001b[0mestimator\u001b[0m\u001b[0;34m,\u001b[0m\u001b[0;34m\u001b[0m\u001b[0;34m\u001b[0m\u001b[0m\n\u001b[0m\u001b[1;32m    977\u001b[0m     )\n\u001b[1;32m    978\u001b[0m \u001b[0;34m\u001b[0m\u001b[0m\n",
            "\u001b[0;32m/usr/local/lib/python3.7/dist-packages/sklearn/utils/validation.py\u001b[0m in \u001b[0;36mcheck_array\u001b[0;34m(array, accept_sparse, accept_large_sparse, dtype, order, copy, force_all_finite, ensure_2d, allow_nd, ensure_min_samples, ensure_min_features, estimator)\u001b[0m\n\u001b[1;32m    771\u001b[0m                     \u001b[0;34m\"Reshape your data either using array.reshape(-1, 1) if \"\u001b[0m\u001b[0;34m\u001b[0m\u001b[0;34m\u001b[0m\u001b[0m\n\u001b[1;32m    772\u001b[0m                     \u001b[0;34m\"your data has a single feature or array.reshape(1, -1) \"\u001b[0m\u001b[0;34m\u001b[0m\u001b[0;34m\u001b[0m\u001b[0m\n\u001b[0;32m--> 773\u001b[0;31m                     \u001b[0;34m\"if it contains a single sample.\"\u001b[0m\u001b[0;34m.\u001b[0m\u001b[0mformat\u001b[0m\u001b[0;34m(\u001b[0m\u001b[0marray\u001b[0m\u001b[0;34m)\u001b[0m\u001b[0;34m\u001b[0m\u001b[0;34m\u001b[0m\u001b[0m\n\u001b[0m\u001b[1;32m    774\u001b[0m                 )\n\u001b[1;32m    775\u001b[0m \u001b[0;34m\u001b[0m\u001b[0m\n",
            "\u001b[0;31mValueError\u001b[0m: Expected 2D array, got 1D array instead:\narray=[1. 1. 0. 0. 0. 1. 1. 0. 0. 0. 1. 0. 0. 0. 0. 0. 0. 0. 0. 0. 0. 0. 1. 1.\n 1. 1. 0. 1. 1. 0. 0. 0. 1. 1. 0. 1. 1. 1. 1. 1. 1. 0. 1. 1. 0. 0. 0. 1.\n 0. 0. 0. 1. 1. 1. 1. 0. 1. 0. 0. 1. 0. 0. 1. 0. 1. 1. 0. 0. 0. 0. 0. 0.\n 0. 0. 1. 1. 1. 1. 0. 1. 0. 0. 0. 0. 1.].\nReshape your data either using array.reshape(-1, 1) if your data has a single feature or array.reshape(1, -1) if it contains a single sample."
          ]
        }
      ]
    },
    {
      "cell_type": "code",
      "source": [
        "# CFM evaluation metrics Accuracy, Precision, Recall\n",
        "print(\"Accuracy:\",metrics.accuracy_score(x_test, y_test))\n",
        "print(\"Precision:\",metrics.precision_score(x_test, y_test))\n",
        "print(\"Recall:\",metrics.recall_score(x_test, y_test))\n",
        "print(\"F1_score:\",metrics.recall_score(x_test, y_test))"
      ],
      "metadata": {
        "colab": {
          "base_uri": "https://localhost:8080/"
        },
        "id": "uk4Zmo9SlCkQ",
        "outputId": "7be582ae-3bb2-4093-e769-7d44f99154be"
      },
      "execution_count": null,
      "outputs": [
        {
          "output_type": "stream",
          "name": "stdout",
          "text": [
            "Accuracy: 0.6352941176470588\n",
            "Precision: 0.7142857142857143\n",
            "Recall: 0.2702702702702703\n",
            "F1_score: 0.2702702702702703\n"
          ]
        }
      ]
    },
    {
      "cell_type": "code",
      "source": [
        "multicolinearity_check = test_date.corr()\n",
        "print(multicolinearity_check)"
      ],
      "metadata": {
        "colab": {
          "base_uri": "https://localhost:8080/"
        },
        "id": "Uvt3TSz7mJpO",
        "outputId": "cb1ea0d4-5d69-4e36-b850-924b569965e3"
      },
      "execution_count": null,
      "outputs": [
        {
          "output_type": "stream",
          "name": "stdout",
          "text": [
            "           chocolate   caramel\n",
            "chocolate   1.000000  0.249875\n",
            "caramel     0.249875  1.000000\n"
          ]
        }
      ]
    },
    {
      "cell_type": "markdown",
      "source": [
        "![image.png](data:image/png;base64,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)"
      ],
      "metadata": {
        "id": "18D-mFo7jAqQ"
      }
    },
    {
      "cell_type": "markdown",
      "source": [
        "I would like to choose confusion matrix, this model."
      ],
      "metadata": {
        "id": "ER4LaYRxVv1P"
      }
    },
    {
      "cell_type": "code",
      "source": [
        "x_test = Candydata['chocolate']\n",
        "y_test = Candydata['caramel']\n",
        "x_test.head(5)\n",
        "y_test.head(5)"
      ],
      "metadata": {
        "colab": {
          "base_uri": "https://localhost:8080/"
        },
        "id": "d8T7kBBaWTpH",
        "outputId": "4e1a20db-9e13-4f91-ee68-1b9bdee786cc"
      },
      "execution_count": null,
      "outputs": [
        {
          "output_type": "execute_result",
          "data": {
            "text/plain": [
              "0    1\n",
              "1    0\n",
              "2    0\n",
              "3    0\n",
              "4    0\n",
              "Name: caramel, dtype: int64"
            ]
          },
          "metadata": {},
          "execution_count": 17
        }
      ]
    },
    {
      "cell_type": "code",
      "source": [
        "# buld metrics. if have or not only chocolate or both.\n",
        "from sklearn import metrics\n",
        "cnf_matrix = metrics.confusion_matrix(x_test, y_test)\n",
        "cnf_matrix"
      ],
      "metadata": {
        "colab": {
          "base_uri": "https://localhost:8080/"
        },
        "id": "ofIpp_eYjGet",
        "outputId": "9295d073-885a-4c59-efac-3e5d2fa1692c"
      },
      "execution_count": null,
      "outputs": [
        {
          "output_type": "execute_result",
          "data": {
            "text/plain": [
              "array([[44,  4],\n",
              "       [27, 10]])"
            ]
          },
          "metadata": {},
          "execution_count": 18
        }
      ]
    },
    {
      "cell_type": "code",
      "source": [
        "# show the cluster visualization.\n",
        "class_names=[0,1] # name  of classes\n",
        "fig, ax = plt.subplots()\n",
        "tick_marks = np.arange(len(class_names))\n",
        "plt.xticks(tick_marks, class_names)\n",
        "plt.yticks(tick_marks, class_names)\n",
        "# create heatmap\n",
        "sns.heatmap(pd.DataFrame(cnf_matrix), annot=True, cmap=\"YlGnBu\" ,fmt='g')\n",
        "ax.xaxis.set_label_position(\"top\")\n",
        "plt.tight_layout()\n",
        "plt.title('Confusion matrix', y=1.1)\n",
        "plt.ylabel('Actual label')\n",
        "plt.xlabel('Predicted label')"
      ],
      "metadata": {
        "colab": {
          "base_uri": "https://localhost:8080/",
          "height": 344
        },
        "id": "_aKWq0MFWhk-",
        "outputId": "e0bceb9f-c85d-4901-bbb5-d1dc01071300"
      },
      "execution_count": null,
      "outputs": [
        {
          "output_type": "execute_result",
          "data": {
            "text/plain": [
              "Text(0.5, 257.44, 'Predicted label')"
            ]
          },
          "metadata": {},
          "execution_count": 19
        },
        {
          "output_type": "display_data",
          "data": {
            "text/plain": [
              "<Figure size 432x288 with 2 Axes>"
            ],
            "image/png": "[encoded data removed]"
          },
          "metadata": {
            "needs_background": "light"
          }
        }
      ]
    },
    {
      "cell_type": "code",
      "source": [
        "clf_log=LogisticRegression().fit(x_test, y_test)\n",
        "y_pred=clf_log.predict(x_test)\n",
        "print(y_pred)"
      ],
      "metadata": {
        "colab": {
          "base_uri": "https://localhost:8080/",
          "height": 451
        },
        "id": "Mk2ycgIpWocO",
        "outputId": "5eeceae3-f862-43d6-c6c0-be47df1069d6"
      },
      "execution_count": null,
      "outputs": [
        {
          "output_type": "error",
          "ename": "ValueError",
          "evalue": "ignored",
          "traceback": [
            "\u001b[0;31m---------------------------------------------------------------------------\u001b[0m",
            "\u001b[0;31mValueError\u001b[0m                                Traceback (most recent call last)",
            "\u001b[0;32m<ipython-input-20-74877311e759>\u001b[0m in \u001b[0;36m<module>\u001b[0;34m()\u001b[0m\n\u001b[0;32m----> 1\u001b[0;31m \u001b[0mclf_log\u001b[0m\u001b[0;34m=\u001b[0m\u001b[0mLogisticRegression\u001b[0m\u001b[0;34m(\u001b[0m\u001b[0;34m)\u001b[0m\u001b[0;34m.\u001b[0m\u001b[0mfit\u001b[0m\u001b[0;34m(\u001b[0m\u001b[0mx_test\u001b[0m\u001b[0;34m,\u001b[0m \u001b[0my_test\u001b[0m\u001b[0;34m)\u001b[0m\u001b[0;34m\u001b[0m\u001b[0;34m\u001b[0m\u001b[0m\n\u001b[0m\u001b[1;32m      2\u001b[0m \u001b[0my_pred\u001b[0m\u001b[0;34m=\u001b[0m\u001b[0mclf_log\u001b[0m\u001b[0;34m.\u001b[0m\u001b[0mpredict\u001b[0m\u001b[0;34m(\u001b[0m\u001b[0mx_test\u001b[0m\u001b[0;34m)\u001b[0m\u001b[0;34m\u001b[0m\u001b[0;34m\u001b[0m\u001b[0m\n\u001b[1;32m      3\u001b[0m \u001b[0mprint\u001b[0m\u001b[0;34m(\u001b[0m\u001b[0my_pred\u001b[0m\u001b[0;34m)\u001b[0m\u001b[0;34m\u001b[0m\u001b[0;34m\u001b[0m\u001b[0m\n",
            "\u001b[0;32m/usr/local/lib/python3.7/dist-packages/sklearn/linear_model/_logistic.py\u001b[0m in \u001b[0;36mfit\u001b[0;34m(self, X, y, sample_weight)\u001b[0m\n\u001b[1;32m   1512\u001b[0m             \u001b[0mdtype\u001b[0m\u001b[0;34m=\u001b[0m\u001b[0m_dtype\u001b[0m\u001b[0;34m,\u001b[0m\u001b[0;34m\u001b[0m\u001b[0;34m\u001b[0m\u001b[0m\n\u001b[1;32m   1513\u001b[0m             \u001b[0morder\u001b[0m\u001b[0;34m=\u001b[0m\u001b[0;34m\"C\"\u001b[0m\u001b[0;34m,\u001b[0m\u001b[0;34m\u001b[0m\u001b[0;34m\u001b[0m\u001b[0m\n\u001b[0;32m-> 1514\u001b[0;31m             \u001b[0maccept_large_sparse\u001b[0m\u001b[0;34m=\u001b[0m\u001b[0msolver\u001b[0m \u001b[0;32mnot\u001b[0m \u001b[0;32min\u001b[0m \u001b[0;34m[\u001b[0m\u001b[0;34m\"liblinear\"\u001b[0m\u001b[0;34m,\u001b[0m \u001b[0;34m\"sag\"\u001b[0m\u001b[0;34m,\u001b[0m \u001b[0;34m\"saga\"\u001b[0m\u001b[0;34m]\u001b[0m\u001b[0;34m,\u001b[0m\u001b[0;34m\u001b[0m\u001b[0;34m\u001b[0m\u001b[0m\n\u001b[0m\u001b[1;32m   1515\u001b[0m         )\n\u001b[1;32m   1516\u001b[0m         \u001b[0mcheck_classification_targets\u001b[0m\u001b[0;34m(\u001b[0m\u001b[0my\u001b[0m\u001b[0;34m)\u001b[0m\u001b[0;34m\u001b[0m\u001b[0;34m\u001b[0m\u001b[0m\n",
            "\u001b[0;32m/usr/local/lib/python3.7/dist-packages/sklearn/base.py\u001b[0m in \u001b[0;36m_validate_data\u001b[0;34m(self, X, y, reset, validate_separately, **check_params)\u001b[0m\n\u001b[1;32m    579\u001b[0m                 \u001b[0my\u001b[0m \u001b[0;34m=\u001b[0m \u001b[0mcheck_array\u001b[0m\u001b[0;34m(\u001b[0m\u001b[0my\u001b[0m\u001b[0;34m,\u001b[0m \u001b[0;34m**\u001b[0m\u001b[0mcheck_y_params\u001b[0m\u001b[0;34m)\u001b[0m\u001b[0;34m\u001b[0m\u001b[0;34m\u001b[0m\u001b[0m\n\u001b[1;32m    580\u001b[0m             \u001b[0;32melse\u001b[0m\u001b[0;34m:\u001b[0m\u001b[0;34m\u001b[0m\u001b[0;34m\u001b[0m\u001b[0m\n\u001b[0;32m--> 581\u001b[0;31m                 \u001b[0mX\u001b[0m\u001b[0;34m,\u001b[0m \u001b[0my\u001b[0m \u001b[0;34m=\u001b[0m \u001b[0mcheck_X_y\u001b[0m\u001b[0;34m(\u001b[0m\u001b[0mX\u001b[0m\u001b[0;34m,\u001b[0m \u001b[0my\u001b[0m\u001b[0;34m,\u001b[0m \u001b[0;34m**\u001b[0m\u001b[0mcheck_params\u001b[0m\u001b[0;34m)\u001b[0m\u001b[0;34m\u001b[0m\u001b[0;34m\u001b[0m\u001b[0m\n\u001b[0m\u001b[1;32m    582\u001b[0m             \u001b[0mout\u001b[0m \u001b[0;34m=\u001b[0m \u001b[0mX\u001b[0m\u001b[0;34m,\u001b[0m \u001b[0my\u001b[0m\u001b[0;34m\u001b[0m\u001b[0;34m\u001b[0m\u001b[0m\n\u001b[1;32m    583\u001b[0m \u001b[0;34m\u001b[0m\u001b[0m\n",
            "\u001b[0;32m/usr/local/lib/python3.7/dist-packages/sklearn/utils/validation.py\u001b[0m in \u001b[0;36mcheck_X_y\u001b[0;34m(X, y, accept_sparse, accept_large_sparse, dtype, order, copy, force_all_finite, ensure_2d, allow_nd, multi_output, ensure_min_samples, ensure_min_features, y_numeric, estimator)\u001b[0m\n\u001b[1;32m    974\u001b[0m         \u001b[0mensure_min_samples\u001b[0m\u001b[0;34m=\u001b[0m\u001b[0mensure_min_samples\u001b[0m\u001b[0;34m,\u001b[0m\u001b[0;34m\u001b[0m\u001b[0;34m\u001b[0m\u001b[0m\n\u001b[1;32m    975\u001b[0m         \u001b[0mensure_min_features\u001b[0m\u001b[0;34m=\u001b[0m\u001b[0mensure_min_features\u001b[0m\u001b[0;34m,\u001b[0m\u001b[0;34m\u001b[0m\u001b[0;34m\u001b[0m\u001b[0m\n\u001b[0;32m--> 976\u001b[0;31m         \u001b[0mestimator\u001b[0m\u001b[0;34m=\u001b[0m\u001b[0mestimator\u001b[0m\u001b[0;34m,\u001b[0m\u001b[0;34m\u001b[0m\u001b[0;34m\u001b[0m\u001b[0m\n\u001b[0m\u001b[1;32m    977\u001b[0m     )\n\u001b[1;32m    978\u001b[0m \u001b[0;34m\u001b[0m\u001b[0m\n",
            "\u001b[0;32m/usr/local/lib/python3.7/dist-packages/sklearn/utils/validation.py\u001b[0m in \u001b[0;36mcheck_array\u001b[0;34m(array, accept_sparse, accept_large_sparse, dtype, order, copy, force_all_finite, ensure_2d, allow_nd, ensure_min_samples, ensure_min_features, estimator)\u001b[0m\n\u001b[1;32m    771\u001b[0m                     \u001b[0;34m\"Reshape your data either using array.reshape(-1, 1) if \"\u001b[0m\u001b[0;34m\u001b[0m\u001b[0;34m\u001b[0m\u001b[0m\n\u001b[1;32m    772\u001b[0m                     \u001b[0;34m\"your data has a single feature or array.reshape(1, -1) \"\u001b[0m\u001b[0;34m\u001b[0m\u001b[0;34m\u001b[0m\u001b[0m\n\u001b[0;32m--> 773\u001b[0;31m                     \u001b[0;34m\"if it contains a single sample.\"\u001b[0m\u001b[0;34m.\u001b[0m\u001b[0mformat\u001b[0m\u001b[0;34m(\u001b[0m\u001b[0marray\u001b[0m\u001b[0;34m)\u001b[0m\u001b[0;34m\u001b[0m\u001b[0;34m\u001b[0m\u001b[0m\n\u001b[0m\u001b[1;32m    774\u001b[0m                 )\n\u001b[1;32m    775\u001b[0m \u001b[0;34m\u001b[0m\u001b[0m\n",
            "\u001b[0;31mValueError\u001b[0m: Expected 2D array, got 1D array instead:\narray=[1. 1. 0. 0. 0. 1. 1. 0. 0. 0. 1. 0. 0. 0. 0. 0. 0. 0. 0. 0. 0. 0. 1. 1.\n 1. 1. 0. 1. 1. 0. 0. 0. 1. 1. 0. 1. 1. 1. 1. 1. 1. 0. 1. 1. 0. 0. 0. 1.\n 0. 0. 0. 1. 1. 1. 1. 0. 1. 0. 0. 1. 0. 0. 1. 0. 1. 1. 0. 0. 0. 0. 0. 0.\n 0. 0. 1. 1. 1. 1. 0. 1. 0. 0. 0. 0. 1.].\nReshape your data either using array.reshape(-1, 1) if your data has a single feature or array.reshape(1, -1) if it contains a single sample."
          ]
        }
      ]
    },
    {
      "cell_type": "code",
      "source": [
        "# CFM evaluation metrics Accuracy, Precision, Recall\n",
        "print(\"Accuracy:\",metrics.accuracy_score(x_test, y_test))\n",
        "print(\"Precision:\",metrics.precision_score(x_test, y_test))\n",
        "print(\"Recall:\",metrics.recall_score(x_test, y_test))\n",
        "print(\"F1_score:\",metrics.recall_score(x_test, y_test))"
      ],
      "metadata": {
        "colab": {
          "base_uri": "https://localhost:8080/"
        },
        "id": "6-pOhNiGWtLy",
        "outputId": "f0121eca-4cde-4904-cb86-b0bb76527a14"
      },
      "execution_count": null,
      "outputs": [
        {
          "output_type": "stream",
          "name": "stdout",
          "text": [
            "Accuracy: 0.6352941176470588\n",
            "Precision: 0.7142857142857143\n",
            "Recall: 0.2702702702702703\n",
            "F1_score: 0.2702702702702703\n"
          ]
        }
      ]
    },
    {
      "cell_type": "code",
      "source": [
        "multicolinearity_check = test_date.corr()\n",
        "print(multicolinearity_check)"
      ],
      "metadata": {
        "colab": {
          "base_uri": "https://localhost:8080/"
        },
        "id": "MHUZZYt-W6Ym",
        "outputId": "741912ee-248c-40d0-f235-cbda7716bd47"
      },
      "execution_count": null,
      "outputs": [
        {
          "output_type": "stream",
          "name": "stdout",
          "text": [
            "           chocolate   caramel\n",
            "chocolate   1.000000  0.249875\n",
            "caramel     0.249875  1.000000\n"
          ]
        }
      ]
    }
  ]
}